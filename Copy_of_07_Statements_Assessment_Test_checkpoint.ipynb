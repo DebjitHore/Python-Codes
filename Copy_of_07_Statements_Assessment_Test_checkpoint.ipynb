{
  "nbformat": 4,
  "nbformat_minor": 0,
  "metadata": {
    "kernelspec": {
      "display_name": "Python 3",
      "language": "python",
      "name": "python3"
    },
    "language_info": {
      "codemirror_mode": {
        "name": "ipython",
        "version": 3
      },
      "file_extension": ".py",
      "mimetype": "text/x-python",
      "name": "python",
      "nbconvert_exporter": "python",
      "pygments_lexer": "ipython3",
      "version": "3.6.6"
    },
    "colab": {
      "name": "Copy of 07-Statements Assessment Test-checkpoint.ipynb",
      "provenance": [],
      "include_colab_link": true
    }
  },
  "cells": [
    {
      "cell_type": "markdown",
      "metadata": {
        "id": "view-in-github",
        "colab_type": "text"
      },
      "source": [
        "<a href=\"https://colab.research.google.com/github/DebjitHore/Python-Codes/blob/master/Copy_of_07_Statements_Assessment_Test_checkpoint.ipynb\" target=\"_parent\"><img src=\"https://colab.research.google.com/assets/colab-badge.svg\" alt=\"Open In Colab\"/></a>"
      ]
    },
    {
      "cell_type": "markdown",
      "metadata": {
        "id": "l-NB07xImOfX"
      },
      "source": [
        "___\n",
        "\n",
        "<a href='https://www.udemy.com/user/joseportilla/'><img src='https://github.com/Pierian-Data/Complete-Python-3-Bootcamp/blob/master/02-Python%20Statements/Pierian_Data_Logo.png?raw=1'/></a>\n",
        "___\n",
        "<center><em>Content Copyright by Pierian Data</em></center>"
      ]
    },
    {
      "cell_type": "markdown",
      "metadata": {
        "collapsed": true,
        "id": "S65AAP5dmOfh"
      },
      "source": [
        "# Statements Assessment Test\n",
        "Let's test your knowledge!"
      ]
    },
    {
      "cell_type": "markdown",
      "metadata": {
        "id": "qvNFX9vdmOfi"
      },
      "source": [
        "_____\n",
        "**Use <code>for</code>, .split(), and <code>if</code> to create a Statement that will print out words that start with 's':**"
      ]
    },
    {
      "cell_type": "code",
      "metadata": {
        "collapsed": true,
        "id": "TvezY1VCmOfj"
      },
      "source": [
        "st = 'Print only the words that start with s in this sentence'"
      ],
      "execution_count": null,
      "outputs": []
    },
    {
      "cell_type": "code",
      "metadata": {
        "collapsed": true,
        "id": "srMMsWMSmOfj",
        "colab": {
          "base_uri": "https://localhost:8080/"
        },
        "outputId": "75209208-a36a-47ff-9316-a637c100b077"
      },
      "source": [
        "st = 'Print only the words that start with s in this sentence'\n",
        "my_list= st.split()\n",
        "for word in my_list:\n",
        "  if word[0] == 's':\n",
        "    print(word)"
      ],
      "execution_count": null,
      "outputs": [
        {
          "output_type": "stream",
          "text": [
            "start\n",
            "s\n",
            "sentence\n"
          ],
          "name": "stdout"
        }
      ]
    },
    {
      "cell_type": "markdown",
      "metadata": {
        "id": "5RuGhyzJmOfk"
      },
      "source": [
        "______\n",
        "**Use range() to print all the even numbers from 0 to 10.**"
      ]
    },
    {
      "cell_type": "code",
      "metadata": {
        "collapsed": true,
        "id": "XYMMueXzmOfl",
        "colab": {
          "base_uri": "https://localhost:8080/"
        },
        "outputId": "f9e2a9ae-1456-46ac-d6b4-4fd3cc4168b0"
      },
      "source": [
        "for i in range(11):\n",
        "  print(i)"
      ],
      "execution_count": null,
      "outputs": [
        {
          "output_type": "stream",
          "text": [
            "0\n",
            "1\n",
            "2\n",
            "3\n",
            "4\n",
            "5\n",
            "6\n",
            "7\n",
            "8\n",
            "9\n",
            "10\n"
          ],
          "name": "stdout"
        }
      ]
    },
    {
      "cell_type": "markdown",
      "metadata": {
        "id": "CiBnlieAmOfl"
      },
      "source": [
        "___\n",
        "**Use a List Comprehension to create a list of all numbers between 1 and 50 that are divisible by 3.**"
      ]
    },
    {
      "cell_type": "code",
      "metadata": {
        "collapsed": true,
        "id": "qKcRiewimOfm",
        "colab": {
          "base_uri": "https://localhost:8080/"
        },
        "outputId": "6a0b5a13-645e-4388-9a62-5e2492cb7b7c"
      },
      "source": [
        "#Code in this cell\n",
        "my_list2= [x for x in range (0,51) if x%3==0]\n",
        "print(my_list2)"
      ],
      "execution_count": null,
      "outputs": [
        {
          "output_type": "stream",
          "text": [
            "[0, 3, 6, 9, 12, 15, 18, 21, 24, 27, 30, 33, 36, 39, 42, 45, 48]\n"
          ],
          "name": "stdout"
        }
      ]
    },
    {
      "cell_type": "markdown",
      "metadata": {
        "id": "Y5I-Qe7KmOfn"
      },
      "source": [
        "_____\n",
        "**Go through the string below and if the length of a word is even print \"even!\"**"
      ]
    },
    {
      "cell_type": "code",
      "metadata": {
        "collapsed": true,
        "id": "DOTCaeXdmOfn"
      },
      "source": [
        "st = 'Print every word in this sentence that has an even number of letters'"
      ],
      "execution_count": null,
      "outputs": []
    },
    {
      "cell_type": "code",
      "metadata": {
        "collapsed": true,
        "id": "uObLSgxumOfo",
        "colab": {
          "base_uri": "https://localhost:8080/"
        },
        "outputId": "1539d857-9347-4aac-b5f3-4e1a23b48a92"
      },
      "source": [
        "st = 'Print every word in this sentence that has an even number of letters'\n",
        "for word in st.split():\n",
        "  l=len(word)\n",
        "  if l%2==0:\n",
        "    print(word)"
      ],
      "execution_count": null,
      "outputs": [
        {
          "output_type": "stream",
          "text": [
            "word\n",
            "in\n",
            "this\n",
            "sentence\n",
            "that\n",
            "an\n",
            "even\n",
            "number\n",
            "of\n"
          ],
          "name": "stdout"
        }
      ]
    },
    {
      "cell_type": "markdown",
      "metadata": {
        "id": "kQC1Wfi0mOfo"
      },
      "source": [
        "____\n",
        "**Write a program that prints the integers from 1 to 100. But for multiples of three print \"Fizz\" instead of the number, and for the multiples of five print \"Buzz\". For numbers which are multiples of both three and five print \"FizzBuzz\".**"
      ]
    },
    {
      "cell_type": "code",
      "metadata": {
        "collapsed": true,
        "id": "PcADkFcfmOfp",
        "colab": {
          "base_uri": "https://localhost:8080/"
        },
        "outputId": "c0b29387-1fd3-47dc-e979-fc5f71962b56"
      },
      "source": [
        "for x in range (1, 101):\n",
        "  if (x%3==0 and x%5==0):\n",
        "    print('FizzBuzz')\n",
        "  elif (x%5==0):\n",
        "    print('Buzz')\n",
        "  elif(x%3==0 ):\n",
        "    print('Fizz')\n",
        "  else:\n",
        "    print(x)\n"
      ],
      "execution_count": null,
      "outputs": [
        {
          "output_type": "stream",
          "text": [
            "1\n",
            "2\n",
            "Fizz\n",
            "4\n",
            "Buzz\n",
            "Fizz\n",
            "7\n",
            "8\n",
            "Fizz\n",
            "Buzz\n",
            "11\n",
            "Fizz\n",
            "13\n",
            "14\n",
            "FizzBuzz\n",
            "16\n",
            "17\n",
            "Fizz\n",
            "19\n",
            "Buzz\n",
            "Fizz\n",
            "22\n",
            "23\n",
            "Fizz\n",
            "Buzz\n",
            "26\n",
            "Fizz\n",
            "28\n",
            "29\n",
            "FizzBuzz\n",
            "31\n",
            "32\n",
            "Fizz\n",
            "34\n",
            "Buzz\n",
            "Fizz\n",
            "37\n",
            "38\n",
            "Fizz\n",
            "Buzz\n",
            "41\n",
            "Fizz\n",
            "43\n",
            "44\n",
            "FizzBuzz\n",
            "46\n",
            "47\n",
            "Fizz\n",
            "49\n",
            "Buzz\n",
            "Fizz\n",
            "52\n",
            "53\n",
            "Fizz\n",
            "Buzz\n",
            "56\n",
            "Fizz\n",
            "58\n",
            "59\n",
            "FizzBuzz\n",
            "61\n",
            "62\n",
            "Fizz\n",
            "64\n",
            "Buzz\n",
            "Fizz\n",
            "67\n",
            "68\n",
            "Fizz\n",
            "Buzz\n",
            "71\n",
            "Fizz\n",
            "73\n",
            "74\n",
            "FizzBuzz\n",
            "76\n",
            "77\n",
            "Fizz\n",
            "79\n",
            "Buzz\n",
            "Fizz\n",
            "82\n",
            "83\n",
            "Fizz\n",
            "Buzz\n",
            "86\n",
            "Fizz\n",
            "88\n",
            "89\n",
            "FizzBuzz\n",
            "91\n",
            "92\n",
            "Fizz\n",
            "94\n",
            "Buzz\n",
            "Fizz\n",
            "97\n",
            "98\n",
            "Fizz\n",
            "Buzz\n"
          ],
          "name": "stdout"
        }
      ]
    },
    {
      "cell_type": "markdown",
      "metadata": {
        "id": "lvWGuKIDmOfp"
      },
      "source": [
        "____\n",
        "**Use List Comprehension to create a list of the first letters of every word in the string below:**"
      ]
    },
    {
      "cell_type": "code",
      "metadata": {
        "collapsed": true,
        "id": "nwmQcV72mOfq"
      },
      "source": [
        "st = 'Create a list of the first letters of every word in this string'"
      ],
      "execution_count": null,
      "outputs": []
    },
    {
      "cell_type": "code",
      "metadata": {
        "collapsed": true,
        "id": "9aqDqGg1mOfq",
        "colab": {
          "base_uri": "https://localhost:8080/"
        },
        "outputId": "4dea51a8-aa45-4d3a-e23f-50e3d4d9af22"
      },
      "source": [
        "st = 'Create a list of the first letters of every word in this string'\n",
        "my_list= [word[0] for word in st.split()]\n",
        "print(my_list)\n",
        " "
      ],
      "execution_count": null,
      "outputs": [
        {
          "output_type": "stream",
          "text": [
            "['C', 'a', 'l', 'o', 't', 'f', 'l', 'o', 'e', 'w', 'i', 't', 's']\n"
          ],
          "name": "stdout"
        }
      ]
    },
    {
      "cell_type": "markdown",
      "metadata": {
        "id": "_GkApLUmmOfs"
      },
      "source": [
        "### Great Job!"
      ]
    }
  ]
}