{
  "nbformat": 4,
  "nbformat_minor": 0,
  "metadata": {
    "kernelspec": {
      "display_name": "Python 3",
      "language": "python",
      "name": "python3"
    },
    "language_info": {
      "codemirror_mode": {
        "name": "ipython",
        "version": 3
      },
      "file_extension": ".py",
      "mimetype": "text/x-python",
      "name": "python",
      "nbconvert_exporter": "python",
      "pygments_lexer": "ipython3",
      "version": "3.6.6"
    },
    "colab": {
      "name": "Copy of 09-Guessing Game Challenge.ipynb",
      "provenance": [],
      "include_colab_link": true
    }
  },
  "cells": [
    {
      "cell_type": "markdown",
      "metadata": {
        "id": "view-in-github",
        "colab_type": "text"
      },
      "source": [
        "<a href=\"https://colab.research.google.com/github/DebjitHore/Python-Codes/blob/master/Copy_of_09_Guessing_Game_Challenge.ipynb\" target=\"_parent\"><img src=\"https://colab.research.google.com/assets/colab-badge.svg\" alt=\"Open In Colab\"/></a>"
      ]
    },
    {
      "cell_type": "markdown",
      "metadata": {
        "id": "dFC0TdDrtrIX"
      },
      "source": [
        "___\n",
        "\n",
        "<a href='https://www.udemy.com/user/joseportilla/'><img src='https://github.com/Pierian-Data/Complete-Python-3-Bootcamp/blob/master/Pierian_Data_Logo.png?raw=1'/></a>\n",
        "___\n",
        "<center><em>Content Copyright by Pierian Data</em></center>"
      ]
    },
    {
      "cell_type": "markdown",
      "metadata": {
        "id": "-WR_u_GUtrIb"
      },
      "source": [
        "# Guessing Game Challenge\n",
        "\n",
        "Let's use `while` loops to create a guessing game.\n",
        "\n",
        "The Challenge:\n",
        "\n",
        "Write a program that picks a random integer from 1 to 100, and has players guess the number. The rules are:\n",
        "\n",
        "1. If a player's guess is less than 1 or greater than 100, say \"OUT OF BOUNDS\"\n",
        "2. On a player's first turn, if their guess is\n",
        " * within 10 of the number, return \"WARM!\"\n",
        " * further than 10 away from the number, return \"COLD!\"\n",
        "3. On all subsequent turns, if a guess is \n",
        " * closer to the number than the previous guess return \"WARMER!\"\n",
        " * farther from the number than the previous guess, return \"COLDER!\"\n",
        "4. When the player's guess equals the number, tell them they've guessed correctly *and* how many guesses it took!\n",
        "\n",
        "You can try this from scratch, or follow the steps outlined below. A separate Solution notebook has been provided. Good luck!\n"
      ]
    },
    {
      "cell_type": "markdown",
      "metadata": {
        "id": "5q_uW-4MtrIc"
      },
      "source": [
        "#### First, pick a random integer from 1 to 100 using the random module and assign it to a variable\n",
        "\n",
        "Note: `random.randint(a,b)` returns a random integer in range `[a, b]`, including both end points."
      ]
    },
    {
      "cell_type": "code",
      "metadata": {
        "collapsed": true,
        "id": "cfHZq3YOtrIc"
      },
      "source": [
        "import random\n",
        "x_guess= random.randint(0,100)"
      ],
      "execution_count": null,
      "outputs": []
    },
    {
      "cell_type": "markdown",
      "metadata": {
        "id": "hTVAFRM1trId"
      },
      "source": [
        "#### Next, print an introduction to the game and explain the rules"
      ]
    },
    {
      "cell_type": "code",
      "metadata": {
        "collapsed": true,
        "id": "p5sErCDStrIe",
        "colab": {
          "base_uri": "https://localhost:8080/"
        },
        "outputId": "51dae842-c75c-48e7-e43d-f082c326feeb"
      },
      "source": [
        "print(\"WELCOME TO GUESS ME!\")\n",
        "print(\"I'm thinking of a number between 1 and 100\")\n",
        "print(\"If your guess is more than 10 away from my number, I'll tell you you're COLD\")\n",
        "print(\"If your guess is within 10 of my number, I'll tell you you're WARM\")\n",
        "print(\"If your guess is farther than your most recent guess, I'll say you're getting COLDER\")\n",
        "print(\"If your guess is closer than your most recent guess, I'll say you're getting WARMER\")\n",
        "print(\"LET'S PLAY!\")"
      ],
      "execution_count": null,
      "outputs": [
        {
          "output_type": "stream",
          "text": [
            "WELCOME TO GUESS ME!\n",
            "I'm thinking of a number between 1 and 100\n",
            "If your guess is more than 10 away from my number, I'll tell you you're COLD\n",
            "If your guess is within 10 of my number, I'll tell you you're WARM\n",
            "If your guess is farther than your most recent guess, I'll say you're getting COLDER\n",
            "If your guess is closer than your most recent guess, I'll say you're getting WARMER\n",
            "LET'S PLAY!\n"
          ],
          "name": "stdout"
        }
      ]
    },
    {
      "cell_type": "markdown",
      "metadata": {
        "id": "FnWlbDtWtrIf"
      },
      "source": [
        "#### Create a list to store guesses\n",
        "\n",
        "Hint: zero is a good placeholder value. It's useful because it evaluates to \"False\""
      ]
    },
    {
      "cell_type": "code",
      "metadata": {
        "collapsed": true,
        "id": "IaVgm2QJtrIg"
      },
      "source": [
        "\n",
        "guesses= [0]"
      ],
      "execution_count": null,
      "outputs": []
    },
    {
      "cell_type": "markdown",
      "metadata": {
        "id": "V0KIhjx-trIh"
      },
      "source": [
        "#### Write a `while` loop that asks for a valid guess. Test it a few times to make sure it works."
      ]
    },
    {
      "cell_type": "code",
      "metadata": {
        "collapsed": true,
        "id": "-p9p99TftrIi",
        "colab": {
          "base_uri": "https://localhost:8080/"
        },
        "outputId": "e0b6bae2-d5d5-4b63-c097-1983563e01bb"
      },
      "source": [
        "while True:\n",
        "    guess= input('Enter a number of your choice')\n",
        "    guess= int(guess)\n",
        "    if (guess >100 and guess <1):\n",
        "      print ('OUT OF BOUNDS')\n",
        "      continue\n",
        "  \n",
        "    if (guess == x_guess):\n",
        "      l= len(guesses)\n",
        "      print('You are successful')\n",
        "      print('The number of guesses it took you is {}'.format(l))\n",
        "      break\n",
        "\n",
        "    guesses.append(guess)\n",
        "\n",
        "    if guesses[-2]:\n",
        "      if abs(guess-x_guess)< abs(guess-guesses[-2]):\n",
        "        print ('WARMER')\n",
        "      else:\n",
        "        print('COLDER') \n",
        "    else:\n",
        "      if abs(x_guess-guess) <= 10:\n",
        "          print('WARM!')\n",
        "      else:\n",
        "          print('COLD!') \n",
        "      "
      ],
      "execution_count": null,
      "outputs": [
        {
          "output_type": "stream",
          "text": [
            "Enter a number of your choice45\n",
            "COLD!\n",
            "Enter a number of your choice40\n",
            "COLDER\n",
            "Enter a number of your choice39\n",
            "COLDER\n",
            "Enter a number of your choice47\n",
            "COLDER\n",
            "Enter a number of your choice53\n",
            "COLDER\n",
            "Enter a number of your choice22\n",
            "WARMER\n",
            "Enter a number of your choice20\n",
            "COLDER\n",
            "Enter a number of your choice21\n",
            "COLDER\n",
            "Enter a number of your choice24\n",
            "WARMER\n",
            "Enter a number of your choice25\n",
            "COLDER\n",
            "Enter a number of your choice23\n",
            "You are successful\n",
            "The number of guesses it took you is 11\n"
          ],
          "name": "stdout"
        }
      ]
    },
    {
      "cell_type": "markdown",
      "metadata": {
        "id": "ztcaTsf3trIj"
      },
      "source": [
        "#### Write a `while` loop that compares the player's guess to our number. If the player guesses correctly, break from the loop. Otherwise, tell the player if they're warmer or colder, and continue asking for guesses.\n",
        "\n",
        "Some hints:\n",
        "* it may help to sketch out all possible combinations on paper first!\n",
        "* you can use the `abs()` function to find the positive difference between two numbers\n",
        "* if you append all new guesses to the list, then the previous guess is given as `guesses[-2]`"
      ]
    },
    {
      "cell_type": "code",
      "metadata": {
        "collapsed": true,
        "id": "HL77f27strIk"
      },
      "source": [
        "while True:\n",
        "\n",
        "    # we can copy the code from above to take an input\n",
        "\n",
        "    pass"
      ],
      "execution_count": null,
      "outputs": []
    },
    {
      "cell_type": "markdown",
      "metadata": {
        "id": "3_Mu35R8trIl"
      },
      "source": [
        "That's it! You've just programmed your first game!\n",
        "\n",
        "In the next section we'll learn how to turn some of these repetitive actions into *functions* that can be called whenever we need them."
      ]
    },
    {
      "cell_type": "markdown",
      "metadata": {
        "id": "3T3TMK_1trIl"
      },
      "source": [
        "### Good Job!"
      ]
    }
  ]
}