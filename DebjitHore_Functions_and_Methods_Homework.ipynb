{
  "nbformat": 4,
  "nbformat_minor": 0,
  "metadata": {
    "kernelspec": {
      "display_name": "Python 3",
      "language": "python",
      "name": "python3"
    },
    "language_info": {
      "codemirror_mode": {
        "name": "ipython",
        "version": 3
      },
      "file_extension": ".py",
      "mimetype": "text/x-python",
      "name": "python",
      "nbconvert_exporter": "python",
      "pygments_lexer": "ipython3",
      "version": "3.6.6"
    },
    "colab": {
      "name": "DebjitHore-Functions and Methods Homework.ipynb",
      "provenance": [],
      "collapsed_sections": [],
      "include_colab_link": true
    }
  },
  "cells": [
    {
      "cell_type": "markdown",
      "metadata": {
        "id": "view-in-github",
        "colab_type": "text"
      },
      "source": [
        "<a href=\"https://colab.research.google.com/github/DebjitHore/Python-Codes/blob/master/DebjitHore_Functions_and_Methods_Homework.ipynb\" target=\"_parent\"><img src=\"https://colab.research.google.com/assets/colab-badge.svg\" alt=\"Open In Colab\"/></a>"
      ]
    },
    {
      "cell_type": "markdown",
      "metadata": {
        "id": "8si4nWNKLbP9"
      },
      "source": [
        "___\n",
        "\n",
        "<a href='https://www.udemy.com/user/joseportilla/'><img src='https://github.com/Pierian-Data/Complete-Python-3-Bootcamp/blob/master/Pierian_Data_Logo.png?raw=1'/></a>\n",
        "___\n",
        "<center><em>Content Copyright by Pierian Data</em></center>"
      ]
    },
    {
      "cell_type": "markdown",
      "metadata": {
        "id": "FF39763vLbQI"
      },
      "source": [
        "# Functions and Methods Homework \n",
        "\n",
        "Complete the following questions:\n",
        "____\n",
        "**Write a function that computes the volume of a sphere given its radius.**\n",
        "<p>The volume of a sphere is given as $$\\frac{4}{3} πr^3$$</p>"
      ]
    },
    {
      "cell_type": "code",
      "metadata": {
        "collapsed": true,
        "id": "LxwEA2aaLbQJ"
      },
      "source": [
        "def vol(rad):\n",
        "    return ((4/3)*3.14*(rad**3))"
      ],
      "execution_count": null,
      "outputs": []
    },
    {
      "cell_type": "code",
      "metadata": {
        "id": "4lJVasu_LbQJ",
        "colab": {
          "base_uri": "https://localhost:8080/"
        },
        "outputId": "38dd8cfa-0bf1-448d-ecd1-8cbb856cd705"
      },
      "source": [
        "# Check\n",
        "vol(2)"
      ],
      "execution_count": null,
      "outputs": [
        {
          "output_type": "execute_result",
          "data": {
            "text/plain": [
              "33.49333333333333"
            ]
          },
          "metadata": {
            "tags": []
          },
          "execution_count": 4
        }
      ]
    },
    {
      "cell_type": "markdown",
      "metadata": {
        "id": "fANMleriLbQL"
      },
      "source": [
        "___\n",
        "**Write a function that checks whether a number is in a given range (inclusive of high and low)**"
      ]
    },
    {
      "cell_type": "code",
      "metadata": {
        "collapsed": true,
        "id": "D7CJ5OG-LbQL"
      },
      "source": [
        "def ran_check(num,low,high):\n",
        "    if num<high and num >low:\n",
        "      return True\n",
        "    else:\n",
        "      return False"
      ],
      "execution_count": null,
      "outputs": []
    },
    {
      "cell_type": "code",
      "metadata": {
        "id": "Af-ovHzvLbQL",
        "colab": {
          "base_uri": "https://localhost:8080/"
        },
        "outputId": "e365ecf5-4d0d-4965-f961-516f7cfe6940"
      },
      "source": [
        "# Check\n",
        "ran_check(5,2,7)"
      ],
      "execution_count": null,
      "outputs": [
        {
          "output_type": "execute_result",
          "data": {
            "text/plain": [
              "True"
            ]
          },
          "metadata": {
            "tags": []
          },
          "execution_count": 6
        }
      ]
    },
    {
      "cell_type": "markdown",
      "metadata": {
        "id": "6vuCj04uLbQM"
      },
      "source": [
        "If you only wanted to return a boolean:"
      ]
    },
    {
      "cell_type": "code",
      "metadata": {
        "collapsed": true,
        "id": "dgVnK2IwLbQM"
      },
      "source": [
        "def ran_bool(num,low,high):\n",
        "   if num<high and num >low:\n",
        "      return True\n",
        "   else:\n",
        "      return False"
      ],
      "execution_count": null,
      "outputs": []
    },
    {
      "cell_type": "code",
      "metadata": {
        "id": "b6sFLoaSLbQM",
        "colab": {
          "base_uri": "https://localhost:8080/"
        },
        "outputId": "885d3523-3684-480f-e4a1-803269fcfb03"
      },
      "source": [
        "ran_bool(3,1,10)"
      ],
      "execution_count": null,
      "outputs": [
        {
          "output_type": "execute_result",
          "data": {
            "text/plain": [
              "True"
            ]
          },
          "metadata": {
            "tags": []
          },
          "execution_count": 10
        }
      ]
    },
    {
      "cell_type": "markdown",
      "metadata": {
        "id": "8zNgB21XLbQO"
      },
      "source": [
        "____\n",
        "**Write a Python function that accepts a string and calculates the number of upper case letters and lower case letters.**\n",
        "\n",
        "    Sample String : 'Hello Mr. Rogers, how are you this fine Tuesday?'\n",
        "    Expected Output : \n",
        "    No. of Upper case characters : 4\n",
        "    No. of Lower case Characters : 33\n",
        "\n",
        "HINT: Two string methods that might prove useful: **.isupper()** and **.islower()**\n",
        "\n",
        "If you feel ambitious, explore the Collections module to solve this problem!"
      ]
    },
    {
      "cell_type": "code",
      "metadata": {
        "collapsed": true,
        "id": "c7BKmeF4LbQP"
      },
      "source": [
        "def up_low(s):\n",
        "  count1=0\n",
        "  count2=0\n",
        "  for i in range(len(s)):\n",
        "      if s[i].islower():\n",
        "        count1+=1\n",
        "      elif s[i].isupper():\n",
        "        count2+=1\n",
        "  print ('Number of Upper case characters is {}'.format(count2))\n",
        "  print ('Number of lower case characters is {}'.format(count1))"
      ],
      "execution_count": null,
      "outputs": []
    },
    {
      "cell_type": "code",
      "metadata": {
        "id": "zwfV7WMlLbQQ",
        "colab": {
          "base_uri": "https://localhost:8080/"
        },
        "outputId": "3b468323-fd63-4c5a-efe3-50ff2d0d734b"
      },
      "source": [
        "s = 'Hello Mr. Rogers, how are you this fine Tuesday?'\n",
        "up_low(s)"
      ],
      "execution_count": null,
      "outputs": [
        {
          "output_type": "stream",
          "text": [
            "Number of Upper case characters is 4\n",
            "Number of lower case characters is 33\n"
          ],
          "name": "stdout"
        }
      ]
    },
    {
      "cell_type": "markdown",
      "metadata": {
        "id": "Cy-jTyl2LbQQ"
      },
      "source": [
        "____\n",
        "**Write a Python function that takes a list and returns a new list with unique elements of the first list.**\n",
        "\n",
        "    Sample List : [1,1,1,1,2,2,3,3,3,3,4,5]\n",
        "    Unique List : [1, 2, 3, 4, 5]"
      ]
    },
    {
      "cell_type": "code",
      "metadata": {
        "collapsed": true,
        "id": "lHpE8EaFLbQQ"
      },
      "source": [
        "def unique_list(lst):\n",
        "    uniquelist=[]\n",
        "    uniquelist.append(lst[0])\n",
        "    for i in range(0, len(lst)-1):\n",
        "      if lst[i] == lst[i+1]:\n",
        "        pass\n",
        "      else:\n",
        "        uniquelist.append(lst[i+1])\n",
        "    print(uniquelist)"
      ],
      "execution_count": null,
      "outputs": []
    },
    {
      "cell_type": "code",
      "metadata": {
        "id": "Rtm70nDlLbQR",
        "colab": {
          "base_uri": "https://localhost:8080/"
        },
        "outputId": "0ba643a8-91bb-434b-ae98-1a877374fcf1"
      },
      "source": [
        "unique_list([1,1,1,1,2,2,3,3,3,3,4,5])"
      ],
      "execution_count": null,
      "outputs": [
        {
          "output_type": "stream",
          "text": [
            "[1, 2, 3, 4, 5]\n"
          ],
          "name": "stdout"
        }
      ]
    },
    {
      "cell_type": "markdown",
      "metadata": {
        "id": "flVlWkgVLbQR"
      },
      "source": [
        "____\n",
        "**Write a Python function to multiply all the numbers in a list.**\n",
        "\n",
        "    Sample List : [1, 2, 3, -4]\n",
        "    Expected Output : -24"
      ]
    },
    {
      "cell_type": "code",
      "metadata": {
        "collapsed": true,
        "id": "6BDrilnALbQR"
      },
      "source": [
        "def multiply(numbers):  \n",
        "    result=1\n",
        "    for i in range(len(numbers)):\n",
        "      result= result*numbers[i]"
      ],
      "execution_count": null,
      "outputs": []
    },
    {
      "cell_type": "code",
      "metadata": {
        "id": "y5MZJu6ULbQS"
      },
      "source": [
        "multiply([1,2,3,-4])"
      ],
      "execution_count": null,
      "outputs": []
    },
    {
      "cell_type": "markdown",
      "metadata": {
        "id": "GpIf7wqyLbQS"
      },
      "source": [
        "____\n",
        "**Write a Python function that checks whether a word or phrase is palindrome or not.**\n",
        "\n",
        "Note: A palindrome is word, phrase, or sequence that reads the same backward as forward, e.g., madam,kayak,racecar, or a phrase \"nurses run\". Hint: You may want to check out the .replace() method in a string to help out with dealing with spaces. Also google search how to reverse a string in Python, there are some clever ways to do it with slicing notation."
      ]
    },
    {
      "cell_type": "code",
      "metadata": {
        "collapsed": true,
        "id": "HOAYAPcFLbQS"
      },
      "source": [
        "def palindrome(s):\n",
        "    t=s.replace(' ', '')\n",
        "    reverset=t[::-1]\n",
        "    if t==reverset:\n",
        "      return True\n",
        "    else:\n",
        "      return False\n"
      ],
      "execution_count": null,
      "outputs": []
    },
    {
      "cell_type": "code",
      "metadata": {
        "id": "_z4lC3QqLbQS",
        "colab": {
          "base_uri": "https://localhost:8080/"
        },
        "outputId": "7331d59f-2ca4-4ba1-c2fa-72e50968b937"
      },
      "source": [
        "palindrome('hell e')"
      ],
      "execution_count": null,
      "outputs": [
        {
          "output_type": "execute_result",
          "data": {
            "text/plain": [
              "False"
            ]
          },
          "metadata": {
            "tags": []
          },
          "execution_count": 54
        }
      ]
    },
    {
      "cell_type": "markdown",
      "metadata": {
        "id": "jWsu9VNKLbQT"
      },
      "source": [
        "____\n",
        "#### Hard:\n",
        "\n",
        "**Write a Python function to check whether a string is pangram or not. (Assume the string passed in does not have any punctuation)**\n",
        "\n",
        "    Note : Pangrams are words or sentences containing every letter of the alphabet at least once.\n",
        "    For example : \"The quick brown fox jumps over the lazy dog\"\n",
        "\n",
        "Hint: You may want to use .replace() method to get rid of spaces.\n",
        "\n",
        "Hint: Look at the [string module](https://stackoverflow.com/questions/16060899/alphabet-range-in-python)\n",
        "\n",
        "Hint: In case you want to use [set comparisons](https://medium.com/better-programming/a-visual-guide-to-set-comparisons-in-python-6ab7edb9ec41)"
      ]
    },
    {
      "cell_type": "code",
      "metadata": {
        "collapsed": true,
        "id": "94gGCENiLbQT"
      },
      "source": [
        "import string\n",
        "\n",
        "def ispangram(str1, alphabet=string.ascii_lowercase):\n",
        "    st1=str1.lower()\n",
        "    st=st1.replace(' ','')\n",
        "    cst=set(st)\n",
        "    cst2=set(alphabet)\n",
        "    \n",
        "    if cst==cst2:\n",
        "      print('Pangram')\n",
        "    else:\n",
        "      return False\n"
      ],
      "execution_count": null,
      "outputs": []
    },
    {
      "cell_type": "code",
      "metadata": {
        "id": "UWT773JZLbQU",
        "colab": {
          "base_uri": "https://localhost:8080/"
        },
        "outputId": "b09e6db3-8260-4a83-b3f1-4f9b05572992"
      },
      "source": [
        "ispangram(\"The quick brown fox jumps over the lazy dog\")"
      ],
      "execution_count": null,
      "outputs": [
        {
          "output_type": "stream",
          "text": [
            "Pangram\n"
          ],
          "name": "stdout"
        }
      ]
    },
    {
      "cell_type": "markdown",
      "metadata": {
        "collapsed": true,
        "id": "SBeuz_pNLbQU"
      },
      "source": [
        "#### Great Job!"
      ]
    }
  ]
}