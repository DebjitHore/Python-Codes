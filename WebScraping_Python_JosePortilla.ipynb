{
  "nbformat": 4,
  "nbformat_minor": 0,
  "metadata": {
    "colab": {
      "name": "WebScraping_Python_JosePortilla.ipynb",
      "provenance": [],
      "authorship_tag": "ABX9TyOEAyHqf+HsocKuuVNCsJDR",
      "include_colab_link": true
    },
    "kernelspec": {
      "name": "python3",
      "display_name": "Python 3"
    },
    "language_info": {
      "name": "python"
    }
  },
  "cells": [
    {
      "cell_type": "markdown",
      "metadata": {
        "id": "view-in-github",
        "colab_type": "text"
      },
      "source": [
        "<a href=\"https://colab.research.google.com/github/DebjitHore/Python-Codes/blob/master/WebScraping_Python_JosePortilla.ipynb\" target=\"_parent\"><img src=\"https://colab.research.google.com/assets/colab-badge.svg\" alt=\"Open In Colab\"/></a>"
      ]
    },
    {
      "cell_type": "code",
      "metadata": {
        "colab": {
          "base_uri": "https://localhost:8080/"
        },
        "id": "zRKufJvx29eK",
        "outputId": "09b047c9-de51-49a3-f471-0e1679ba8b59"
      },
      "source": [
        "pip install requests\n"
      ],
      "execution_count": 1,
      "outputs": [
        {
          "output_type": "stream",
          "text": [
            "Requirement already satisfied: requests in /usr/local/lib/python3.7/dist-packages (2.23.0)\n",
            "Requirement already satisfied: urllib3!=1.25.0,!=1.25.1,<1.26,>=1.21.1 in /usr/local/lib/python3.7/dist-packages (from requests) (1.24.3)\n",
            "Requirement already satisfied: chardet<4,>=3.0.2 in /usr/local/lib/python3.7/dist-packages (from requests) (3.0.4)\n",
            "Requirement already satisfied: idna<3,>=2.5 in /usr/local/lib/python3.7/dist-packages (from requests) (2.10)\n",
            "Requirement already satisfied: certifi>=2017.4.17 in /usr/local/lib/python3.7/dist-packages (from requests) (2021.5.30)\n"
          ],
          "name": "stdout"
        }
      ]
    },
    {
      "cell_type": "code",
      "metadata": {
        "colab": {
          "base_uri": "https://localhost:8080/"
        },
        "id": "v2DHt4Af6RnC",
        "outputId": "1283b4f4-cfe0-4318-e82a-c702d564c127"
      },
      "source": [
        "pip install bs4\n"
      ],
      "execution_count": 2,
      "outputs": [
        {
          "output_type": "stream",
          "text": [
            "Requirement already satisfied: bs4 in /usr/local/lib/python3.7/dist-packages (0.0.1)\n",
            "Requirement already satisfied: beautifulsoup4 in /usr/local/lib/python3.7/dist-packages (from bs4) (4.6.3)\n"
          ],
          "name": "stdout"
        }
      ]
    },
    {
      "cell_type": "code",
      "metadata": {
        "colab": {
          "base_uri": "https://localhost:8080/"
        },
        "id": "1ZqxtM6h7FJs",
        "outputId": "228fe268-c8c0-4251-ffdf-7fefa6f6c510"
      },
      "source": [
        "pip install lxml"
      ],
      "execution_count": 3,
      "outputs": [
        {
          "output_type": "stream",
          "text": [
            "Requirement already satisfied: lxml in /usr/local/lib/python3.7/dist-packages (4.2.6)\n"
          ],
          "name": "stdout"
        }
      ]
    },
    {
      "cell_type": "code",
      "metadata": {
        "id": "5q8rlfUR7IuY"
      },
      "source": [
        "import requests\n",
        "import bs4"
      ],
      "execution_count": 4,
      "outputs": []
    },
    {
      "cell_type": "code",
      "metadata": {
        "colab": {
          "base_uri": "https://localhost:8080/"
        },
        "id": "slT3FSLc7gbI",
        "outputId": "499c1e6a-0087-4a0a-d48f-59d6db02a71b"
      },
      "source": [
        "result= requests.get('http://www.example.com')\n",
        "type(result)"
      ],
      "execution_count": 6,
      "outputs": [
        {
          "output_type": "execute_result",
          "data": {
            "text/plain": [
              "requests.models.Response"
            ]
          },
          "metadata": {},
          "execution_count": 6
        }
      ]
    },
    {
      "cell_type": "code",
      "metadata": {
        "colab": {
          "base_uri": "https://localhost:8080/",
          "height": 137
        },
        "id": "FtYwm6qNJAL-",
        "outputId": "6f19034b-1dfa-40d3-e397-678221072fc4"
      },
      "source": [
        "result.text"
      ],
      "execution_count": 7,
      "outputs": [
        {
          "output_type": "execute_result",
          "data": {
            "application/vnd.google.colaboratory.intrinsic+json": {
              "type": "string"
            },
            "text/plain": [
              "'<!doctype html>\\n<html>\\n<head>\\n    <title>Example Domain</title>\\n\\n    <meta charset=\"utf-8\" />\\n    <meta http-equiv=\"Content-type\" content=\"text/html; charset=utf-8\" />\\n    <meta name=\"viewport\" content=\"width=device-width, initial-scale=1\" />\\n    <style type=\"text/css\">\\n    body {\\n        background-color: #f0f0f2;\\n        margin: 0;\\n        padding: 0;\\n        font-family: -apple-system, system-ui, BlinkMacSystemFont, \"Segoe UI\", \"Open Sans\", \"Helvetica Neue\", Helvetica, Arial, sans-serif;\\n        \\n    }\\n    div {\\n        width: 600px;\\n        margin: 5em auto;\\n        padding: 2em;\\n        background-color: #fdfdff;\\n        border-radius: 0.5em;\\n        box-shadow: 2px 3px 7px 2px rgba(0,0,0,0.02);\\n    }\\n    a:link, a:visited {\\n        color: #38488f;\\n        text-decoration: none;\\n    }\\n    @media (max-width: 700px) {\\n        div {\\n            margin: 0 auto;\\n            width: auto;\\n        }\\n    }\\n    </style>    \\n</head>\\n\\n<body>\\n<div>\\n    <h1>Example Domain</h1>\\n    <p>This domain is for use in illustrative examples in documents. You may use this\\n    domain in literature without prior coordination or asking for permission.</p>\\n    <p><a href=\"https://www.iana.org/domains/example\">More information...</a></p>\\n</div>\\n</body>\\n</html>\\n'"
            ]
          },
          "metadata": {},
          "execution_count": 7
        }
      ]
    },
    {
      "cell_type": "code",
      "metadata": {
        "id": "fvyvCd9QJLag"
      },
      "source": [
        "soup= bs4.BeautifulSoup(result.text, 'lxml')"
      ],
      "execution_count": 8,
      "outputs": []
    },
    {
      "cell_type": "code",
      "metadata": {
        "colab": {
          "base_uri": "https://localhost:8080/"
        },
        "id": "ikcu3mdDJc9s",
        "outputId": "908730ab-b9e8-4d33-8a35-2223219c3dea"
      },
      "source": [
        "soup #Soup Object has been created."
      ],
      "execution_count": 14,
      "outputs": [
        {
          "output_type": "execute_result",
          "data": {
            "text/plain": [
              "<!DOCTYPE html>\n",
              "<html>\n",
              "<head>\n",
              "<title>Example Domain</title>\n",
              "<meta charset=\"utf-8\"/>\n",
              "<meta content=\"text/html; charset=utf-8\" http-equiv=\"Content-type\"/>\n",
              "<meta content=\"width=device-width, initial-scale=1\" name=\"viewport\"/>\n",
              "<style type=\"text/css\">\n",
              "    body {\n",
              "        background-color: #f0f0f2;\n",
              "        margin: 0;\n",
              "        padding: 0;\n",
              "        font-family: -apple-system, system-ui, BlinkMacSystemFont, \"Segoe UI\", \"Open Sans\", \"Helvetica Neue\", Helvetica, Arial, sans-serif;\n",
              "        \n",
              "    }\n",
              "    div {\n",
              "        width: 600px;\n",
              "        margin: 5em auto;\n",
              "        padding: 2em;\n",
              "        background-color: #fdfdff;\n",
              "        border-radius: 0.5em;\n",
              "        box-shadow: 2px 3px 7px 2px rgba(0,0,0,0.02);\n",
              "    }\n",
              "    a:link, a:visited {\n",
              "        color: #38488f;\n",
              "        text-decoration: none;\n",
              "    }\n",
              "    @media (max-width: 700px) {\n",
              "        div {\n",
              "            margin: 0 auto;\n",
              "            width: auto;\n",
              "        }\n",
              "    }\n",
              "    </style>\n",
              "</head>\n",
              "<body>\n",
              "<div>\n",
              "<h1>Example Domain</h1>\n",
              "<p>This domain is for use in illustrative examples in documents. You may use this\n",
              "    domain in literature without prior coordination or asking for permission.</p>\n",
              "<p><a href=\"https://www.iana.org/domains/example\">More information...</a></p>\n",
              "</div>\n",
              "</body>\n",
              "</html>"
            ]
          },
          "metadata": {},
          "execution_count": 14
        }
      ]
    },
    {
      "cell_type": "code",
      "metadata": {
        "colab": {
          "base_uri": "https://localhost:8080/"
        },
        "id": "52DQeGx3JeZ9",
        "outputId": "669666d6-bcbb-4d42-aebf-422a566344f6"
      },
      "source": [
        "soup.select('title')"
      ],
      "execution_count": 10,
      "outputs": [
        {
          "output_type": "execute_result",
          "data": {
            "text/plain": [
              "[<title>Example Domain</title>]"
            ]
          },
          "metadata": {},
          "execution_count": 10
        }
      ]
    },
    {
      "cell_type": "code",
      "metadata": {
        "colab": {
          "base_uri": "https://localhost:8080/"
        },
        "id": "kVyR0mImJvkp",
        "outputId": "d27a4149-5348-453e-8621-02e68bc9a69b"
      },
      "source": [
        "soup.select('p')"
      ],
      "execution_count": 11,
      "outputs": [
        {
          "output_type": "execute_result",
          "data": {
            "text/plain": [
              "[<p>This domain is for use in illustrative examples in documents. You may use this\n",
              "     domain in literature without prior coordination or asking for permission.</p>,\n",
              " <p><a href=\"https://www.iana.org/domains/example\">More information...</a></p>]"
            ]
          },
          "metadata": {},
          "execution_count": 11
        }
      ]
    },
    {
      "cell_type": "code",
      "metadata": {
        "colab": {
          "base_uri": "https://localhost:8080/",
          "height": 35
        },
        "id": "Zi5BzFG0K793",
        "outputId": "b40675bb-1395-40d5-d2d0-6aa899d613f3"
      },
      "source": [
        "soup.select('title')[0].getText()"
      ],
      "execution_count": 13,
      "outputs": [
        {
          "output_type": "execute_result",
          "data": {
            "application/vnd.google.colaboratory.intrinsic+json": {
              "type": "string"
            },
            "text/plain": [
              "'Example Domain'"
            ]
          },
          "metadata": {},
          "execution_count": 13
        }
      ]
    },
    {
      "cell_type": "code",
      "metadata": {
        "id": "KWxPV0yoLHm2"
      },
      "source": [
        "res= requests.get(\"https://en.wikipedia.org/wiki/Grace_Hopper\")"
      ],
      "execution_count": 15,
      "outputs": []
    },
    {
      "cell_type": "code",
      "metadata": {
        "id": "Klom0zNTYafH"
      },
      "source": [
        "soup= bs4.BeautifulSoup(res.text, 'lxml')\n"
      ],
      "execution_count": 18,
      "outputs": []
    },
    {
      "cell_type": "code",
      "metadata": {
        "colab": {
          "base_uri": "https://localhost:8080/"
        },
        "id": "xPCVIYuIYlTe",
        "outputId": "648c2aca-56e3-453d-9f0a-940906096589"
      },
      "source": [
        "soup.select('.toctext')"
      ],
      "execution_count": 19,
      "outputs": [
        {
          "output_type": "execute_result",
          "data": {
            "text/plain": [
              "[<span class=\"toctext\">Early life and education</span>,\n",
              " <span class=\"toctext\">Career</span>,\n",
              " <span class=\"toctext\">World War II</span>,\n",
              " <span class=\"toctext\">UNIVAC</span>,\n",
              " <span class=\"toctext\">COBOL</span>,\n",
              " <span class=\"toctext\">Standards</span>,\n",
              " <span class=\"toctext\">Retirement</span>,\n",
              " <span class=\"toctext\">Post-retirement</span>,\n",
              " <span class=\"toctext\">Anecdotes</span>,\n",
              " <span class=\"toctext\">Death</span>,\n",
              " <span class=\"toctext\">Dates of rank</span>,\n",
              " <span class=\"toctext\">Awards and honors</span>,\n",
              " <span class=\"toctext\">Military awards</span>,\n",
              " <span class=\"toctext\">Other awards</span>,\n",
              " <span class=\"toctext\">Legacy</span>,\n",
              " <span class=\"toctext\">Places</span>,\n",
              " <span class=\"toctext\">Programs</span>,\n",
              " <span class=\"toctext\">In popular culture</span>,\n",
              " <span class=\"toctext\">Grace Hopper Celebration of Women in Computing</span>,\n",
              " <span class=\"toctext\">See also</span>,\n",
              " <span class=\"toctext\">Notes</span>,\n",
              " <span class=\"toctext\">Obituary notices</span>,\n",
              " <span class=\"toctext\">References</span>,\n",
              " <span class=\"toctext\">Further reading</span>,\n",
              " <span class=\"toctext\">External links</span>]"
            ]
          },
          "metadata": {},
          "execution_count": 19
        }
      ]
    },
    {
      "cell_type": "code",
      "metadata": {
        "colab": {
          "base_uri": "https://localhost:8080/"
        },
        "id": "7b81GgkVY5dj",
        "outputId": "7e41ba74-4a21-41ec-fb80-c0c00af6d55b"
      },
      "source": [
        "for item in soup.select('.toctext'):\n",
        "  print(item.getText())"
      ],
      "execution_count": 20,
      "outputs": [
        {
          "output_type": "stream",
          "text": [
            "Early life and education\n",
            "Career\n",
            "World War II\n",
            "UNIVAC\n",
            "COBOL\n",
            "Standards\n",
            "Retirement\n",
            "Post-retirement\n",
            "Anecdotes\n",
            "Death\n",
            "Dates of rank\n",
            "Awards and honors\n",
            "Military awards\n",
            "Other awards\n",
            "Legacy\n",
            "Places\n",
            "Programs\n",
            "In popular culture\n",
            "Grace Hopper Celebration of Women in Computing\n",
            "See also\n",
            "Notes\n",
            "Obituary notices\n",
            "References\n",
            "Further reading\n",
            "External links\n"
          ],
          "name": "stdout"
        }
      ]
    },
    {
      "cell_type": "markdown",
      "metadata": {
        "id": "8Zm__Q-eZibw"
      },
      "source": [
        "#Grabbing an Image"
      ]
    },
    {
      "cell_type": "code",
      "metadata": {
        "id": "elD_GsLDZaB7"
      },
      "source": [
        "res= requests.get('https://en.wikipedia.org/wiki/Deep_Blue_(chess_computer)')"
      ],
      "execution_count": 21,
      "outputs": []
    },
    {
      "cell_type": "code",
      "metadata": {
        "id": "XjAPaDabbQmO"
      },
      "source": [
        "soup= bs4.BeautifulSoup(res.text, 'lxml')\n",
        "soup"
      ],
      "execution_count": null,
      "outputs": []
    },
    {
      "cell_type": "code",
      "metadata": {
        "colab": {
          "base_uri": "https://localhost:8080/"
        },
        "id": "ODEAnnRBbXJG",
        "outputId": "9e665e99-7ec6-47f7-9bc2-cb431f20fc18"
      },
      "source": [
        "soup.select('img') #All images including icons and symbols are returned"
      ],
      "execution_count": 26,
      "outputs": [
        {
          "output_type": "execute_result",
          "data": {
            "text/plain": [
              "[<img alt=\"Deep Blue.jpg\" data-file-height=\"601\" data-file-width=\"400\" decoding=\"async\" height=\"331\" src=\"//upload.wikimedia.org/wikipedia/commons/thumb/b/be/Deep_Blue.jpg/220px-Deep_Blue.jpg\" srcset=\"//upload.wikimedia.org/wikipedia/commons/thumb/b/be/Deep_Blue.jpg/330px-Deep_Blue.jpg 1.5x, //upload.wikimedia.org/wikipedia/commons/b/be/Deep_Blue.jpg 2x\" width=\"220\"/>,\n",
              " <img alt=\"Chess Programming.svg\" data-file-height=\"60\" data-file-width=\"60\" decoding=\"async\" height=\"150\" src=\"//upload.wikimedia.org/wikipedia/commons/thumb/5/52/Chess_Programming.svg/150px-Chess_Programming.svg.png\" srcset=\"//upload.wikimedia.org/wikipedia/commons/thumb/5/52/Chess_Programming.svg/225px-Chess_Programming.svg.png 1.5x, //upload.wikimedia.org/wikipedia/commons/thumb/5/52/Chess_Programming.svg/300px-Chess_Programming.svg.png 2x\" width=\"150\"/>,\n",
              " <img alt=\"\" class=\"thumbimage\" data-file-height=\"600\" data-file-width=\"800\" decoding=\"async\" height=\"165\" src=\"//upload.wikimedia.org/wikipedia/commons/thumb/6/6f/Kasparov_Magath_1985_Hamburg-2.png/220px-Kasparov_Magath_1985_Hamburg-2.png\" srcset=\"//upload.wikimedia.org/wikipedia/commons/thumb/6/6f/Kasparov_Magath_1985_Hamburg-2.png/330px-Kasparov_Magath_1985_Hamburg-2.png 1.5x, //upload.wikimedia.org/wikipedia/commons/thumb/6/6f/Kasparov_Magath_1985_Hamburg-2.png/440px-Kasparov_Magath_1985_Hamburg-2.png 2x\" width=\"220\"/>,\n",
              " <img alt=\"Nuvola apps package games strategy.png\" class=\"noviewer\" data-file-height=\"128\" data-file-width=\"128\" decoding=\"async\" height=\"28\" src=\"//upload.wikimedia.org/wikipedia/commons/thumb/5/5e/Nuvola_apps_package_games_strategy.png/28px-Nuvola_apps_package_games_strategy.png\" srcset=\"//upload.wikimedia.org/wikipedia/commons/thumb/5/5e/Nuvola_apps_package_games_strategy.png/42px-Nuvola_apps_package_games_strategy.png 1.5x, //upload.wikimedia.org/wikipedia/commons/thumb/5/5e/Nuvola_apps_package_games_strategy.png/56px-Nuvola_apps_package_games_strategy.png 2x\" width=\"28\"/>,\n",
              " <img alt=\"IBM logo.svg\" data-file-height=\"400\" data-file-width=\"1000\" decoding=\"async\" height=\"48\" src=\"//upload.wikimedia.org/wikipedia/commons/thumb/5/51/IBM_logo.svg/120px-IBM_logo.svg.png\" srcset=\"//upload.wikimedia.org/wikipedia/commons/thumb/5/51/IBM_logo.svg/180px-IBM_logo.svg.png 1.5x, //upload.wikimedia.org/wikipedia/commons/thumb/5/51/IBM_logo.svg/240px-IBM_logo.svg.png 2x\" width=\"120\"/>,\n",
              " <img alt=\"Edit this at Wikidata\" data-file-height=\"20\" data-file-width=\"20\" decoding=\"async\" height=\"10\" src=\"//upload.wikimedia.org/wikipedia/en/thumb/8/8a/OOjs_UI_icon_edit-ltr-progressive.svg/10px-OOjs_UI_icon_edit-ltr-progressive.svg.png\" srcset=\"//upload.wikimedia.org/wikipedia/en/thumb/8/8a/OOjs_UI_icon_edit-ltr-progressive.svg/15px-OOjs_UI_icon_edit-ltr-progressive.svg.png 1.5x, //upload.wikimedia.org/wikipedia/en/thumb/8/8a/OOjs_UI_icon_edit-ltr-progressive.svg/20px-OOjs_UI_icon_edit-ltr-progressive.svg.png 2x\" style=\"vertical-align: text-top\" width=\"10\"/>,\n",
              " <img alt=\"\" height=\"1\" src=\"//en.wikipedia.org/wiki/Special:CentralAutoLogin/start?type=1x1\" style=\"border: none; position: absolute;\" title=\"\" width=\"1\"/>,\n",
              " <img alt=\"Wikimedia Foundation\" height=\"31\" loading=\"lazy\" src=\"/static/images/footer/wikimedia-button.png\" srcset=\"/static/images/footer/wikimedia-button-1.5x.png 1.5x, /static/images/footer/wikimedia-button-2x.png 2x\" width=\"88\"/>,\n",
              " <img alt=\"Powered by MediaWiki\" height=\"31\" loading=\"lazy\" src=\"/static/images/footer/poweredby_mediawiki_88x31.png\" srcset=\"/static/images/footer/poweredby_mediawiki_132x47.png 1.5x, /static/images/footer/poweredby_mediawiki_176x62.png 2x\" width=\"88\"/>]"
            ]
          },
          "metadata": {},
          "execution_count": 26
        }
      ]
    },
    {
      "cell_type": "code",
      "metadata": {
        "colab": {
          "base_uri": "https://localhost:8080/"
        },
        "id": "JfdUc9ZLbhaf",
        "outputId": "fffb103e-c833-4826-ce28-58a5d6b297ab"
      },
      "source": [
        "soup.select('.thumbimage') #Only images that are part of the articles are returned"
      ],
      "execution_count": 46,
      "outputs": [
        {
          "output_type": "execute_result",
          "data": {
            "text/plain": [
              "[<a class=\"image\" href=\"/wiki/File:Deep_Blue.jpg\"><img alt=\"Deep Blue.jpg\" data-file-height=\"601\" data-file-width=\"400\" decoding=\"async\" height=\"331\" src=\"//upload.wikimedia.org/wikipedia/commons/thumb/b/be/Deep_Blue.jpg/220px-Deep_Blue.jpg\" srcset=\"//upload.wikimedia.org/wikipedia/commons/thumb/b/be/Deep_Blue.jpg/330px-Deep_Blue.jpg 1.5x, //upload.wikimedia.org/wikipedia/commons/b/be/Deep_Blue.jpg 2x\" width=\"220\"/></a>,\n",
              " <a class=\"image\" href=\"/wiki/File:Chess_Programming.svg\"><img alt=\"Chess Programming.svg\" data-file-height=\"60\" data-file-width=\"60\" decoding=\"async\" height=\"150\" src=\"//upload.wikimedia.org/wikipedia/commons/thumb/5/52/Chess_Programming.svg/150px-Chess_Programming.svg.png\" srcset=\"//upload.wikimedia.org/wikipedia/commons/thumb/5/52/Chess_Programming.svg/225px-Chess_Programming.svg.png 1.5x, //upload.wikimedia.org/wikipedia/commons/thumb/5/52/Chess_Programming.svg/300px-Chess_Programming.svg.png 2x\" width=\"150\"/></a>,\n",
              " <a class=\"image\" href=\"/wiki/File:Kasparov_Magath_1985_Hamburg-2.png\"><img alt=\"\" class=\"thumbimage\" data-file-height=\"600\" data-file-width=\"800\" decoding=\"async\" height=\"165\" src=\"//upload.wikimedia.org/wikipedia/commons/thumb/6/6f/Kasparov_Magath_1985_Hamburg-2.png/220px-Kasparov_Magath_1985_Hamburg-2.png\" srcset=\"//upload.wikimedia.org/wikipedia/commons/thumb/6/6f/Kasparov_Magath_1985_Hamburg-2.png/330px-Kasparov_Magath_1985_Hamburg-2.png 1.5x, //upload.wikimedia.org/wikipedia/commons/thumb/6/6f/Kasparov_Magath_1985_Hamburg-2.png/440px-Kasparov_Magath_1985_Hamburg-2.png 2x\" width=\"220\"/></a>,\n",
              " <a class=\"image\" href=\"/wiki/File:Nuvola_apps_package_games_strategy.png\"><img alt=\"Nuvola apps package games strategy.png\" class=\"noviewer\" data-file-height=\"128\" data-file-width=\"128\" decoding=\"async\" height=\"28\" src=\"//upload.wikimedia.org/wikipedia/commons/thumb/5/5e/Nuvola_apps_package_games_strategy.png/28px-Nuvola_apps_package_games_strategy.png\" srcset=\"//upload.wikimedia.org/wikipedia/commons/thumb/5/5e/Nuvola_apps_package_games_strategy.png/42px-Nuvola_apps_package_games_strategy.png 1.5x, //upload.wikimedia.org/wikipedia/commons/thumb/5/5e/Nuvola_apps_package_games_strategy.png/56px-Nuvola_apps_package_games_strategy.png 2x\" width=\"28\"/></a>,\n",
              " <a class=\"image\" href=\"/wiki/File:IBM_logo.svg\"><img alt=\"IBM logo.svg\" data-file-height=\"400\" data-file-width=\"1000\" decoding=\"async\" height=\"48\" src=\"//upload.wikimedia.org/wikipedia/commons/thumb/5/51/IBM_logo.svg/120px-IBM_logo.svg.png\" srcset=\"//upload.wikimedia.org/wikipedia/commons/thumb/5/51/IBM_logo.svg/180px-IBM_logo.svg.png 1.5x, //upload.wikimedia.org/wikipedia/commons/thumb/5/51/IBM_logo.svg/240px-IBM_logo.svg.png 2x\" width=\"120\"/></a>]"
            ]
          },
          "metadata": {},
          "execution_count": 46
        }
      ]
    },
    {
      "cell_type": "code",
      "metadata": {
        "colab": {
          "base_uri": "https://localhost:8080/"
        },
        "id": "dWFBMvGicLQM",
        "outputId": "ecdc82bc-32c3-42a8-aade-42e1f4274ccb"
      },
      "source": [
        "chess_computer= soup.select('.thumbimage')[0]\n",
        "chess_computer"
      ],
      "execution_count": 47,
      "outputs": [
        {
          "output_type": "execute_result",
          "data": {
            "text/plain": [
              "<img alt=\"\" class=\"thumbimage\" data-file-height=\"600\" data-file-width=\"800\" decoding=\"async\" height=\"165\" src=\"//upload.wikimedia.org/wikipedia/commons/thumb/6/6f/Kasparov_Magath_1985_Hamburg-2.png/220px-Kasparov_Magath_1985_Hamburg-2.png\" srcset=\"//upload.wikimedia.org/wikipedia/commons/thumb/6/6f/Kasparov_Magath_1985_Hamburg-2.png/330px-Kasparov_Magath_1985_Hamburg-2.png 1.5x, //upload.wikimedia.org/wikipedia/commons/thumb/6/6f/Kasparov_Magath_1985_Hamburg-2.png/440px-Kasparov_Magath_1985_Hamburg-2.png 2x\" width=\"220\"/>"
            ]
          },
          "metadata": {},
          "execution_count": 47
        }
      ]
    },
    {
      "cell_type": "code",
      "metadata": {
        "colab": {
          "base_uri": "https://localhost:8080/",
          "height": 35
        },
        "id": "XB3uMf-Pco60",
        "outputId": "7663990e-2d5e-4cba-c8e1-7a2c48998ae3"
      },
      "source": [
        "chess_computer['src']"
      ],
      "execution_count": 48,
      "outputs": [
        {
          "output_type": "execute_result",
          "data": {
            "application/vnd.google.colaboratory.intrinsic+json": {
              "type": "string"
            },
            "text/plain": [
              "'//upload.wikimedia.org/wikipedia/commons/thumb/6/6f/Kasparov_Magath_1985_Hamburg-2.png/220px-Kasparov_Magath_1985_Hamburg-2.png'"
            ]
          },
          "metadata": {},
          "execution_count": 48
        }
      ]
    },
    {
      "cell_type": "markdown",
      "metadata": {
        "id": "5Epg01Pzd-Fr"
      },
      "source": [
        "<img \n",
        " src= \"//upload.wikimedia.org/wikipedia/commons/thumb/6/6f/Kasparov_Magath_1985_Hamburg-2.png/220px-Kasparov_Magath_1985_Hamburg-2.png\">"
      ]
    },
    {
      "cell_type": "markdown",
      "metadata": {
        "id": "FOxaJpYgmSPR"
      },
      "source": [
        "#Working with multiple pages and items"
      ]
    },
    {
      "cell_type": "markdown",
      "metadata": {
        "id": "nDI7GQ13moFj"
      },
      "source": [
        "https://toscrape.com/\n"
      ]
    },
    {
      "cell_type": "code",
      "metadata": {
        "id": "UESKXpUUdM8I"
      },
      "source": [
        "#Goal: Get title of every book with two star rating.\n",
        "import requests\n",
        "import bs4"
      ],
      "execution_count": 49,
      "outputs": []
    },
    {
      "cell_type": "code",
      "metadata": {
        "id": "Uao51YWkdg7X"
      },
      "source": [
        "#Typical page syntax 'https://books.toscrape.com/catalogue/page-3.html'\n",
        "base_url= 'https://books.toscrape.com/catalogue/page-{}.html'"
      ],
      "execution_count": 50,
      "outputs": []
    },
    {
      "cell_type": "code",
      "metadata": {
        "colab": {
          "base_uri": "https://localhost:8080/",
          "height": 35
        },
        "id": "gU5DziBvoVnI",
        "outputId": "e3fb5dd2-0d3d-4b13-c04f-eb4b1ef693d4"
      },
      "source": [
        "page_num=12\n",
        "base_url.format(page_num)"
      ],
      "execution_count": 52,
      "outputs": [
        {
          "output_type": "execute_result",
          "data": {
            "application/vnd.google.colaboratory.intrinsic+json": {
              "type": "string"
            },
            "text/plain": [
              "'https://books.toscrape.com/catalogue/page-12.html'"
            ]
          },
          "metadata": {},
          "execution_count": 52
        }
      ]
    },
    {
      "cell_type": "code",
      "metadata": {
        "id": "Cn-LX4w_oX56"
      },
      "source": [
        "res= requests.get(base_url.format(1))\n",
        "soup=bs4.BeautifulSoup(res.text, 'lxml')"
      ],
      "execution_count": 53,
      "outputs": []
    },
    {
      "cell_type": "code",
      "metadata": {
        "id": "h3aBKVB3pjwx"
      },
      "source": [
        "products= soup.select('.product_pod')"
      ],
      "execution_count": 55,
      "outputs": []
    },
    {
      "cell_type": "code",
      "metadata": {
        "colab": {
          "base_uri": "https://localhost:8080/"
        },
        "id": "CbaUIK-2pvbZ",
        "outputId": "7d68ab61-8db3-475b-cddd-c4d18f5b73bc"
      },
      "source": [
        "products[0].select('.star-rating.Three') #If that class is present it is returned, otherwise a null list is returned."
      ],
      "execution_count": 57,
      "outputs": [
        {
          "output_type": "execute_result",
          "data": {
            "text/plain": [
              "[<p class=\"star-rating Three\">\n",
              " <i class=\"icon-star\"></i>\n",
              " <i class=\"icon-star\"></i>\n",
              " <i class=\"icon-star\"></i>\n",
              " <i class=\"icon-star\"></i>\n",
              " <i class=\"icon-star\"></i>\n",
              " </p>]"
            ]
          },
          "metadata": {},
          "execution_count": 57
        }
      ]
    },
    {
      "cell_type": "code",
      "metadata": {
        "colab": {
          "base_uri": "https://localhost:8080/"
        },
        "id": "fyp8y7g8p-jG",
        "outputId": "1ad7d2b7-4dbc-47cc-da1b-42b1604f977a"
      },
      "source": [
        "products[0].select('.star-rating.Two')"
      ],
      "execution_count": 58,
      "outputs": [
        {
          "output_type": "execute_result",
          "data": {
            "text/plain": [
              "[]"
            ]
          },
          "metadata": {},
          "execution_count": 58
        }
      ]
    },
    {
      "cell_type": "code",
      "metadata": {
        "colab": {
          "base_uri": "https://localhost:8080/"
        },
        "id": "3T73m45BqpN4",
        "outputId": "667e3570-bacc-43a3-c739-b0f33cdba0c6"
      },
      "source": [
        "products[0] #How to grab the title of the book"
      ],
      "execution_count": 59,
      "outputs": [
        {
          "output_type": "execute_result",
          "data": {
            "text/plain": [
              "<article class=\"product_pod\">\n",
              "<div class=\"image_container\">\n",
              "<a href=\"a-light-in-the-attic_1000/index.html\"><img alt=\"A Light in the Attic\" class=\"thumbnail\" src=\"../media/cache/2c/da/2cdad67c44b002e7ead0cc35693c0e8b.jpg\"/></a>\n",
              "</div>\n",
              "<p class=\"star-rating Three\">\n",
              "<i class=\"icon-star\"></i>\n",
              "<i class=\"icon-star\"></i>\n",
              "<i class=\"icon-star\"></i>\n",
              "<i class=\"icon-star\"></i>\n",
              "<i class=\"icon-star\"></i>\n",
              "</p>\n",
              "<h3><a href=\"a-light-in-the-attic_1000/index.html\" title=\"A Light in the Attic\">A Light in the ...</a></h3>\n",
              "<div class=\"product_price\">\n",
              "<p class=\"price_color\">Â£51.77</p>\n",
              "<p class=\"instock availability\">\n",
              "<i class=\"icon-ok\"></i>\n",
              "    \n",
              "        In stock\n",
              "    \n",
              "</p>\n",
              "<form>\n",
              "<button class=\"btn btn-primary btn-block\" data-loading-text=\"Adding...\" type=\"submit\">Add to basket</button>\n",
              "</form>\n",
              "</div>\n",
              "</article>"
            ]
          },
          "metadata": {},
          "execution_count": 59
        }
      ]
    },
    {
      "cell_type": "code",
      "metadata": {
        "colab": {
          "base_uri": "https://localhost:8080/"
        },
        "id": "eUA0shLXrqSC",
        "outputId": "e03e8745-890f-493d-94fa-2d7fef7694c7"
      },
      "source": [
        "products[0].select('a')"
      ],
      "execution_count": 62,
      "outputs": [
        {
          "output_type": "execute_result",
          "data": {
            "text/plain": [
              "[<a href=\"a-light-in-the-attic_1000/index.html\"><img alt=\"A Light in the Attic\" class=\"thumbnail\" src=\"../media/cache/2c/da/2cdad67c44b002e7ead0cc35693c0e8b.jpg\"/></a>,\n",
              " <a href=\"a-light-in-the-attic_1000/index.html\" title=\"A Light in the Attic\">A Light in the ...</a>]"
            ]
          },
          "metadata": {},
          "execution_count": 62
        }
      ]
    },
    {
      "cell_type": "code",
      "metadata": {
        "colab": {
          "base_uri": "https://localhost:8080/",
          "height": 35
        },
        "id": "JW9oePjVr458",
        "outputId": "66e83834-b355-4673-c9ae-708b446c66fc"
      },
      "source": [
        "products[0].select('a')[1]['title']"
      ],
      "execution_count": 63,
      "outputs": [
        {
          "output_type": "execute_result",
          "data": {
            "application/vnd.google.colaboratory.intrinsic+json": {
              "type": "string"
            },
            "text/plain": [
              "'A Light in the Attic'"
            ]
          },
          "metadata": {},
          "execution_count": 63
        }
      ]
    },
    {
      "cell_type": "code",
      "metadata": {
        "id": "D0lFvqgAsD0k"
      },
      "source": [
        "two_star_titles=[]\n",
        "for i in range(1,51):\n",
        "  scrape_url=base_url.format(i)\n",
        "  res=requests.get(scrape_url)\n",
        "  soup=bs4.BeautifulSoup(res.text, 'lxml')\n",
        "  books= soup.select('.product_pod')\n",
        "  for book in books:\n",
        "    if len(book.select('.star-rating.Two')) != 0: #There will be elements in this list only if star-rating Two class is present\n",
        "       two_star_titles.append(book.select('a')[1]['title'])\n",
        "\n"
      ],
      "execution_count": 64,
      "outputs": []
    },
    {
      "cell_type": "code",
      "metadata": {
        "colab": {
          "base_uri": "https://localhost:8080/"
        },
        "id": "qWYmSkQDtmRq",
        "outputId": "9bbe9b22-d790-4bcd-d41d-ad96264c29df"
      },
      "source": [
        "two_star_titles"
      ],
      "execution_count": 65,
      "outputs": [
        {
          "output_type": "execute_result",
          "data": {
            "text/plain": [
              "['Starving Hearts (Triangular Trade Trilogy, #1)',\n",
              " 'Libertarianism for Beginners',\n",
              " \"It's Only the Himalayas\",\n",
              " 'How Music Works',\n",
              " 'Maude (1883-1993):She Grew Up with the country',\n",
              " \"You can't bury them all: Poems\",\n",
              " 'Reasons to Stay Alive',\n",
              " 'Without Borders (Wanderlove #1)',\n",
              " 'Soul Reader',\n",
              " 'Security',\n",
              " 'Saga, Volume 5 (Saga (Collected Editions) #5)',\n",
              " 'Reskilling America: Learning to Labor in the Twenty-First Century',\n",
              " 'Political Suicide: Missteps, Peccadilloes, Bad Calls, Backroom Hijinx, Sordid Pasts, Rotten Breaks, and Just Plain Dumb Mistakes in the Annals of American Politics',\n",
              " 'Obsidian (Lux #1)',\n",
              " 'My Paris Kitchen: Recipes and Stories',\n",
              " 'Masks and Shadows',\n",
              " 'Lumberjanes, Vol. 2: Friendship to the Max (Lumberjanes #5-8)',\n",
              " 'Lumberjanes Vol. 3: A Terrible Plan (Lumberjanes #9-12)',\n",
              " 'Judo: Seven Steps to Black Belt (an Introductory Guide for Beginners)',\n",
              " 'I Hate Fairyland, Vol. 1: Madly Ever After (I Hate Fairyland (Compilations) #1-5)',\n",
              " 'Giant Days, Vol. 2 (Giant Days #5-8)',\n",
              " 'Everydata: The Misinformation Hidden in the Little Data You Consume Every Day',\n",
              " \"Don't Be a Jerk: And Other Practical Advice from Dogen, Japan's Greatest Zen Master\",\n",
              " 'Bossypants',\n",
              " 'Bitch Planet, Vol. 1: Extraordinary Machine (Bitch Planet (Collected Editions))',\n",
              " 'Avatar: The Last Airbender: Smoke and Shadow, Part 3 (Smoke and Shadow #3)',\n",
              " 'Tuesday Nights in 1980',\n",
              " 'The Psychopath Test: A Journey Through the Madness Industry',\n",
              " 'The Power of Now: A Guide to Spiritual Enlightenment',\n",
              " \"The Omnivore's Dilemma: A Natural History of Four Meals\",\n",
              " 'The Love and Lemons Cookbook: An Apple-to-Zucchini Celebration of Impromptu Cooking',\n",
              " 'The Girl on the Train',\n",
              " 'The Emerald Mystery',\n",
              " 'The Argonauts',\n",
              " 'Suddenly in Love (Lake Haven #1)',\n",
              " 'Soft Apocalypse',\n",
              " \"So You've Been Publicly Shamed\",\n",
              " 'Shoe Dog: A Memoir by the Creator of NIKE',\n",
              " 'Louisa: The Extraordinary Life of Mrs. Adams',\n",
              " 'Large Print Heart of the Pride',\n",
              " 'Grumbles',\n",
              " 'Chasing Heaven: What Dying Taught Me About Living',\n",
              " 'Becoming Wise: An Inquiry into the Mystery and Art of Living',\n",
              " 'Beauty Restored (Riley Family Legacy Novellas #3)',\n",
              " 'Batman: The Long Halloween (Batman)',\n",
              " \"Ayumi's Violin\",\n",
              " 'Wild Swans',\n",
              " \"What's It Like in Space?: Stories from Astronauts Who've Been There\",\n",
              " 'Until Friday Night (The Field Party #1)',\n",
              " 'Unbroken: A World War II Story of Survival, Resilience, and Redemption',\n",
              " 'Twenty Yawns',\n",
              " 'Through the Woods',\n",
              " 'This Is Where It Ends',\n",
              " 'The Year of Magical Thinking',\n",
              " 'The Last Mile (Amos Decker #2)',\n",
              " 'The Immortal Life of Henrietta Lacks',\n",
              " 'The Hidden Oracle (The Trials of Apollo #1)',\n",
              " 'The Guilty (Will Robie #4)',\n",
              " 'Red Hood/Arsenal, Vol. 1: Open for Business (Red Hood/Arsenal #1)',\n",
              " 'Once Was a Time',\n",
              " 'No Dream Is Too High: Life Lessons From a Man Who Walked on the Moon',\n",
              " 'Naruto (3-in-1 Edition), Vol. 14: Includes Vols. 40, 41 & 42 (Naruto: Omnibus #14)',\n",
              " 'More Than Music (Chasing the Dream #1)',\n",
              " 'Lowriders to the Center of the Earth (Lowriders in Space #2)',\n",
              " 'Eat Fat, Get Thin',\n",
              " 'Doctor Sleep (The Shining #2)',\n",
              " 'Crazy Love: Overwhelmed by a Relentless God',\n",
              " 'Carrie',\n",
              " 'Batman: Europa',\n",
              " 'Angels Walking (Angels Walking #1)',\n",
              " 'Adulthood Is a Myth: A \"Sarah\\'s Scribbles\" Collection',\n",
              " 'A Study in Scarlet (Sherlock Holmes #1)',\n",
              " 'A Series of Catastrophes and Miracles: A True Story of Love, Science, and Cancer',\n",
              " \"A People's History of the United States\",\n",
              " 'My Kitchen Year: 136 Recipes That Saved My Life',\n",
              " 'The Lonely City: Adventures in the Art of Being Alone',\n",
              " 'The Dinner Party',\n",
              " 'Stars Above (The Lunar Chronicles #4.5)',\n",
              " 'Love, Lies and Spies',\n",
              " 'Troublemaker: Surviving Hollywood and Scientology',\n",
              " 'The Widow',\n",
              " 'Setting the World on Fire: The Brief, Astonishing Life of St. Catherine of Siena',\n",
              " 'Mothering Sunday',\n",
              " 'Lilac Girls',\n",
              " '10% Happier: How I Tamed the Voice in My Head, Reduced Stress Without Losing My Edge, and Found Self-Help That Actually Works',\n",
              " 'Underlying Notes',\n",
              " 'The Flowers Lied',\n",
              " 'Modern Day Fables',\n",
              " \"Chernobyl 01:23:40: The Incredible True Story of the World's Worst Nuclear Disaster\",\n",
              " '23 Degrees South: A Tropical Tale of Changing Whether...',\n",
              " 'When Breath Becomes Air',\n",
              " 'Vagabonding: An Uncommon Guide to the Art of Long-Term World Travel',\n",
              " 'The Martian (The Martian #1)',\n",
              " \"Miller's Valley\",\n",
              " \"Love That Boy: What Two Presidents, Eight Road Trips, and My Son Taught Me About a Parent's Expectations\",\n",
              " 'Left Behind (Left Behind #1)',\n",
              " 'Howl and Other Poems',\n",
              " \"Heaven is for Real: A Little Boy's Astounding Story of His Trip to Heaven and Back\",\n",
              " \"Brazen: The Courage to Find the You That's Been Hiding\",\n",
              " '32 Yolks',\n",
              " 'Wildlife of New York: A Five-Borough Coloring Book',\n",
              " 'Unreasonable Hope: Finding Faith in the God Who Brings Purpose to Your Pain',\n",
              " 'The Art Book',\n",
              " 'Steal Like an Artist: 10 Things Nobody Told You About Being Creative',\n",
              " 'Raymie Nightingale',\n",
              " 'Like Never Before (Walker Family #2)',\n",
              " 'How to Be a Domestic Goddess: Baking and the Art of Comfort Cooking',\n",
              " 'Finding God in the Ruins: How God Redeems Pain',\n",
              " 'Chronicles, Vol. 1',\n",
              " 'A Summer In Europe',\n",
              " 'The Rise and Fall of the Third Reich: A History of Nazi Germany',\n",
              " 'The Makings of a Fatherless Child',\n",
              " 'The Fellowship of the Ring (The Lord of the Rings #1)',\n",
              " \"Tell the Wolves I'm Home\",\n",
              " 'In the Woods (Dublin Murder Squad #1)',\n",
              " 'Give It Back',\n",
              " 'Why Save the Bankers?: And Other Essays on Our Economic and Political Crisis',\n",
              " 'The Raven King (The Raven Cycle #4)',\n",
              " 'The Expatriates',\n",
              " 'The 5th Wave (The 5th Wave #1)',\n",
              " 'Peak: Secrets from the New Science of Expertise',\n",
              " 'Logan Kade (Fallen Crest High #5.5)',\n",
              " \"I Know Why the Caged Bird Sings (Maya Angelou's Autobiography #1)\",\n",
              " 'Drama',\n",
              " \"America's War for the Greater Middle East: A Military History\",\n",
              " 'A Game of Thrones (A Song of Ice and Fire #1)',\n",
              " \"The Pilgrim's Progress\",\n",
              " 'The Hound of the Baskervilles (Sherlock Holmes #5)',\n",
              " \"The Geography of Bliss: One Grump's Search for the Happiest Places in the World\",\n",
              " 'The Demonists (Demonist #1)',\n",
              " 'The Demon Prince of Momochi House, Vol. 4 (The Demon Prince of Momochi House #4)',\n",
              " 'Misery',\n",
              " 'Far From True (Promise Falls Trilogy #2)',\n",
              " 'Confessions of a Shopaholic (Shopaholic #1)',\n",
              " 'Vegan Vegetarian Omnivore: Dinner for Everyone at the Table',\n",
              " 'Two Boys Kissing',\n",
              " 'Twilight (Twilight #1)',\n",
              " 'Twenties Girl',\n",
              " 'The Tipping Point: How Little Things Can Make a Big Difference',\n",
              " 'The Stand',\n",
              " 'The Picture of Dorian Gray',\n",
              " 'The Name of God is Mercy',\n",
              " \"The Lover's Dictionary\",\n",
              " 'The Last Painting of Sara de Vos',\n",
              " 'The Guns of August',\n",
              " 'The Girl Who Played with Fire (Millennium Trilogy #2)',\n",
              " 'The Da Vinci Code (Robert Langdon #2)',\n",
              " 'The Cat in the Hat (Beginner Books B-1)',\n",
              " 'The Book Thief',\n",
              " 'The Autobiography of Malcolm X',\n",
              " \"Surely You're Joking, Mr. Feynman!: Adventures of a Curious Character\",\n",
              " 'Soldier (Talon #3)',\n",
              " 'Shopaholic & Baby (Shopaholic #5)',\n",
              " 'Seven Days in the Art World',\n",
              " 'Rework',\n",
              " 'Packing for Mars: The Curious Science of Life in the Void',\n",
              " 'Orange Is the New Black',\n",
              " 'One for the Money (Stephanie Plum #1)',\n",
              " 'Midnight Riot (Peter Grant/ Rivers of London - books #1)',\n",
              " 'Me Talk Pretty One Day',\n",
              " 'Manuscript Found in Accra',\n",
              " 'Lust & Wonder',\n",
              " \"Life, the Universe and Everything (Hitchhiker's Guide to the Galaxy #3)\",\n",
              " 'Life After Life',\n",
              " 'I Am Malala: The Girl Who Stood Up for Education and Was Shot by the Taliban',\n",
              " 'House of Lost Worlds: Dinosaurs, Dynasties, and the Story of Life on Earth',\n",
              " 'Horrible Bear!',\n",
              " 'Holidays on Ice',\n",
              " 'Girl in the Blue Coat',\n",
              " 'Fruits Basket, Vol. 3 (Fruits Basket #3)',\n",
              " 'Cosmos',\n",
              " 'Civilization and Its Discontents',\n",
              " \"Catastrophic Happiness: Finding Joy in Childhood's Messy Years\",\n",
              " 'Career of Evil (Cormoran Strike #3)',\n",
              " 'Born to Run: A Hidden Tribe, Superathletes, and the Greatest Race the World Has Never Seen',\n",
              " \"Best of My Love (Fool's Gold #20)\",\n",
              " 'Beowulf',\n",
              " 'Awkward',\n",
              " 'And Then There Were None',\n",
              " 'A Storm of Swords (A Song of Ice and Fire #3)',\n",
              " 'The Suffragettes (Little Black Classics, #96)',\n",
              " 'Vampire Girl (Vampire Girl #1)',\n",
              " 'Three Wishes (River of Time: California #1)',\n",
              " 'The Wicked + The Divine, Vol. 1: The Faust Act (The Wicked + The Divine)',\n",
              " 'The Little Prince',\n",
              " 'The Last Girl (The Dominion Trilogy #1)',\n",
              " 'Taking Shots (Assassins #1)',\n",
              " 'Settling the Score (The Summer Games #1)',\n",
              " 'Rhythm, Chord & Malykhin',\n",
              " 'One Second (Seven #7)',\n",
              " \"Old Records Never Die: One Man's Quest for His Vinyl and His Past\",\n",
              " 'Of Mice and Men',\n",
              " 'My Perfect Mistake (Over the Top #1)',\n",
              " 'Meditations',\n",
              " 'Frankenstein',\n",
              " 'Emma']"
            ]
          },
          "metadata": {},
          "execution_count": 65
        }
      ]
    },
    {
      "cell_type": "code",
      "metadata": {
        "id": "ZMJlO27itszt"
      },
      "source": [
        ""
      ],
      "execution_count": null,
      "outputs": []
    }
  ]
}