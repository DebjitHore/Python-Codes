{
  "nbformat": 4,
  "nbformat_minor": 0,
  "metadata": {
    "colab": {
      "name": "Euler_10.ipynb",
      "provenance": [],
      "collapsed_sections": [],
      "authorship_tag": "ABX9TyP4CgLoNH2JVrQ9rBrP13XY",
      "include_colab_link": true
    },
    "kernelspec": {
      "name": "python3",
      "display_name": "Python 3"
    },
    "language_info": {
      "name": "python"
    }
  },
  "cells": [
    {
      "cell_type": "markdown",
      "metadata": {
        "id": "view-in-github",
        "colab_type": "text"
      },
      "source": [
        "<a href=\"https://colab.research.google.com/github/DebjitHore/Python-Codes/blob/master/Euler_10.ipynb\" target=\"_parent\"><img src=\"https://colab.research.google.com/assets/colab-badge.svg\" alt=\"Open In Colab\"/></a>"
      ]
    },
    {
      "cell_type": "code",
      "metadata": {
        "id": "lLOdNYHJdYzm"
      },
      "source": [
        "#Sum of primes below two million\n",
        "import numpy as np"
      ],
      "execution_count": 53,
      "outputs": []
    },
    {
      "cell_type": "code",
      "metadata": {
        "id": "srAMYVLPii1S",
        "colab": {
          "base_uri": "https://localhost:8080/"
        },
        "outputId": "e2cd45b6-0a00-40cd-e816-ee72d0a8c4ed"
      },
      "source": [
        "n= 4\n",
        "count=[]\n",
        "i=2\n",
        "rangeNumber=int(input('Enter range till which you want to go'))\n",
        "fullcount= np.arange(2, rangeNumber+1)\n",
        "while n< rangeNumber+1:\n",
        "  while i<n:\n",
        "    if n%i==0:\n",
        "      count.append(n)\n",
        "      break\n",
        "    else: \n",
        "      i+=1  \n",
        "  n+=1\n",
        "  i=2  "
      ],
      "execution_count": 83,
      "outputs": [
        {
          "output_type": "stream",
          "text": [
            "Enter range till which you want to go1000\n"
          ],
          "name": "stdout"
        }
      ]
    },
    {
      "cell_type": "code",
      "metadata": {
        "colab": {
          "base_uri": "https://localhost:8080/"
        },
        "id": "rXRT52c7jYPo",
        "outputId": "915e97fd-529a-4260-89a7-ee7c260e7cc2"
      },
      "source": [
        "x= np.array(count)\n",
        "print(fullcount.sum()- x.sum())\n"
      ],
      "execution_count": 85,
      "outputs": [
        {
          "output_type": "stream",
          "text": [
            "76127\n"
          ],
          "name": "stdout"
        }
      ]
    },
    {
      "cell_type": "code",
      "metadata": {
        "id": "-3Ve14kFhEYa"
      },
      "source": [
        "#Implement Sieve of Erasthothenes"
      ],
      "execution_count": 86,
      "outputs": []
    },
    {
      "cell_type": "code",
      "metadata": {
        "colab": {
          "base_uri": "https://localhost:8080/"
        },
        "id": "d10CeJzimUhb",
        "outputId": "b2149f5b-4b53-4ac9-9942-41c06258baa5"
      },
      "source": [
        "n= int(input('Enter range upto which you want to check'))\n",
        "sum, sieve= 0, [True]*n\n",
        "\n",
        "for i in range (2,n):\n",
        "  if sieve[i]:\n",
        "    sum+=i\n",
        "    for j in range(i*i, n, i):\n",
        "      sieve[j]= False\n",
        "  \n",
        "print(sum)\n"
      ],
      "execution_count": 90,
      "outputs": [
        {
          "output_type": "stream",
          "text": [
            "Enter range upto which you want to check2000000\n",
            "142913828922\n"
          ],
          "name": "stdout"
        }
      ]
    },
    {
      "cell_type": "code",
      "metadata": {
        "id": "5jvOZU0bnNuw"
      },
      "source": [
        ""
      ],
      "execution_count": null,
      "outputs": []
    }
  ]
}