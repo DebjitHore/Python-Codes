{
 "cells": [
  {
   "cell_type": "code",
   "execution_count": 1,
   "metadata": {},
   "outputs": [],
   "source": [
    "#CARD CLASS CREATION\n",
    "#suits ranks and corresponding values\n",
    "import random \n",
    "suits = ('Hearts', 'Diamonds', 'Spades', 'Clubs')\n",
    "ranks = ('Two', 'Three', 'Four', 'Five', 'Six', 'Seven', 'Eight', 'Nine', 'Ten', 'Jack', 'Queen', 'King', 'Ace')\n",
    "values = {'Two':2, 'Three':3, 'Four':4, 'Five':5, 'Six':6, 'Seven':7, 'Eight':8, \n",
    "            'Nine':9, 'Ten':10, 'Jack':11, 'Queen':12, 'King':13, 'Ace':14}"
   ]
  },
  {
   "cell_type": "code",
   "execution_count": 2,
   "metadata": {},
   "outputs": [],
   "source": [
    "class Card():\n",
    "    \n",
    "    def __init__(self, suit, rank):\n",
    "        self.suit=suit\n",
    "        self.rank=rank\n",
    "        self.value=values[rank]\n",
    "    def __str__(self):\n",
    "        return self.rank + \" of \" + self.suit"
   ]
  },
  {
   "cell_type": "code",
   "execution_count": 3,
   "metadata": {},
   "outputs": [
    {
     "name": "stdout",
     "output_type": "stream",
     "text": [
      "Two of Hearts\n"
     ]
    }
   ],
   "source": [
    "#test instance creation\n",
    "two_hearts= Card(\"Hearts\", \"Two\")\n",
    "print(two_hearts)"
   ]
  },
  {
   "cell_type": "code",
   "execution_count": null,
   "metadata": {},
   "outputs": [],
   "source": [
    "#Create dictionary to compare rank through key value pair binding"
   ]
  },
  {
   "cell_type": "code",
   "execution_count": null,
   "metadata": {},
   "outputs": [],
   "source": []
  },
  {
   "cell_type": "code",
   "execution_count": null,
   "metadata": {},
   "outputs": [],
   "source": []
  },
  {
   "cell_type": "code",
   "execution_count": null,
   "metadata": {},
   "outputs": [],
   "source": [
    "#CREATE DECK CLASS that will hold a list of all 52 card as instances of the Card class"
   ]
  },
  {
   "cell_type": "code",
   "execution_count": 4,
   "metadata": {},
   "outputs": [],
   "source": [
    "class Deck():\n",
    "    \n",
    "    def __init__(self):\n",
    "        self.all_Cards= []\n",
    "        \n",
    "        for suit in suits:\n",
    "            for rank in ranks:\n",
    "                #Create card objects\n",
    "                createdCard= Card(suit, rank)\n",
    "                self.all_Cards.append(createdCard)\n",
    "    def shuffleDeck(self):\n",
    "        random.shuffle(self.all_Cards)\n",
    "    def deal_one_card(self):\n",
    "        return self.all_Cards.pop()"
   ]
  },
  {
   "cell_type": "code",
   "execution_count": 5,
   "metadata": {},
   "outputs": [],
   "source": [
    "brand_new_Deck=Deck()"
   ]
  },
  {
   "cell_type": "code",
   "execution_count": null,
   "metadata": {},
   "outputs": [],
   "source": [
    "brand_new_Deck.shuffleDeck()\n",
    "mycard= brand_new_Deck.deal_one_card()"
   ]
  },
  {
   "cell_type": "code",
   "execution_count": null,
   "metadata": {},
   "outputs": [],
   "source": [
    "#Player class"
   ]
  },
  {
   "cell_type": "code",
   "execution_count": 6,
   "metadata": {},
   "outputs": [],
   "source": [
    "class Player():\n",
    "    def __init__(self,name):\n",
    "        self.name=name\n",
    "        self.allCards=[]\n",
    "    def removeOne(self):\n",
    "        return self.allCards.pop(0)\n",
    "    def add_Cards(self, new_cards):\n",
    "        #Mutliple card objects\n",
    "        if type(new_cards)==type([]):\n",
    "            self.allCards.extend(new_cards)\n",
    "        else:\n",
    "        #Single card\n",
    "            self.allCards.append(new_cards)\n",
    "    def __str__(self):\n",
    "        return f'Player {self.name} has {len(self.allCards)} cards'"
   ]
  },
  {
   "cell_type": "code",
   "execution_count": null,
   "metadata": {},
   "outputs": [],
   "source": [
    "new_Player=Player(\"Debjit\")"
   ]
  },
  {
   "cell_type": "code",
   "execution_count": null,
   "metadata": {},
   "outputs": [],
   "source": [
    "print(new_Player)"
   ]
  },
  {
   "cell_type": "code",
   "execution_count": null,
   "metadata": {},
   "outputs": [],
   "source": [
    "print(mycard)"
   ]
  },
  {
   "cell_type": "code",
   "execution_count": null,
   "metadata": {},
   "outputs": [],
   "source": [
    "new_Player.add_Cards(mycard)"
   ]
  },
  {
   "cell_type": "code",
   "execution_count": null,
   "metadata": {},
   "outputs": [],
   "source": [
    "print(new_Player.all_Cards[0])"
   ]
  },
  {
   "cell_type": "code",
   "execution_count": null,
   "metadata": {},
   "outputs": [],
   "source": [
    "new_Player.all_Cards"
   ]
  },
  {
   "cell_type": "code",
   "execution_count": null,
   "metadata": {},
   "outputs": [],
   "source": []
  },
  {
   "cell_type": "code",
   "execution_count": null,
   "metadata": {},
   "outputs": [],
   "source": []
  },
  {
   "cell_type": "code",
   "execution_count": 29,
   "metadata": {},
   "outputs": [],
   "source": [
    "#GameLogic #Game Setup\n",
    "player_one=Player(\"One\")\n",
    "player_two=Player(\"Two\")\n",
    "newDeck= Deck()"
   ]
  },
  {
   "cell_type": "code",
   "execution_count": 30,
   "metadata": {},
   "outputs": [],
   "source": [
    "newDeck.shuffleDeck()"
   ]
  },
  {
   "cell_type": "code",
   "execution_count": 31,
   "metadata": {},
   "outputs": [],
   "source": [
    "for x in range(26):\n",
    "    player_one.add_Cards(newDeck.deal_one_card())\n",
    "    player_two.add_Cards(newDeck.deal_one_card())"
   ]
  },
  {
   "cell_type": "code",
   "execution_count": 32,
   "metadata": {},
   "outputs": [],
   "source": [
    "game_on= True\n",
    "round_number=0"
   ]
  },
  {
   "cell_type": "code",
   "execution_count": 33,
   "metadata": {},
   "outputs": [
    {
     "name": "stdout",
     "output_type": "stream",
     "text": [
      "Current round that is going on is 1\n",
      "Current round that is going on is 2\n",
      "Current round that is going on is 3\n",
      "Current round that is going on is 4\n",
      "Current round that is going on is 5\n",
      "Current round that is going on is 6\n",
      "Current round that is going on is 7\n",
      "Current round that is going on is 8\n",
      "Current round that is going on is 9\n",
      "Current round that is going on is 10\n",
      "Current round that is going on is 11\n",
      "Current round that is going on is 12\n",
      "Current round that is going on is 13\n",
      "Current round that is going on is 14\n",
      "War!\n",
      "Current round that is going on is 15\n",
      "Current round that is going on is 16\n",
      "Current round that is going on is 17\n",
      "Current round that is going on is 18\n",
      "Current round that is going on is 19\n",
      "Current round that is going on is 20\n",
      "Current round that is going on is 21\n",
      "Current round that is going on is 22\n",
      "Current round that is going on is 23\n",
      "Current round that is going on is 24\n",
      "Current round that is going on is 25\n",
      "Current round that is going on is 26\n",
      "Current round that is going on is 27\n",
      "Current round that is going on is 28\n",
      "Current round that is going on is 29\n",
      "Current round that is going on is 30\n",
      "Current round that is going on is 31\n",
      "Current round that is going on is 32\n",
      "Current round that is going on is 33\n",
      "Current round that is going on is 34\n",
      "Current round that is going on is 35\n",
      "Current round that is going on is 36\n",
      "War!\n",
      "Current round that is going on is 37\n",
      "Current round that is going on is 38\n",
      "Current round that is going on is 39\n",
      "Current round that is going on is 40\n",
      "War!\n",
      "Current round that is going on is 41\n",
      "Current round that is going on is 42\n",
      "Current round that is going on is 43\n",
      "Current round that is going on is 44\n",
      "Current round that is going on is 45\n",
      "Current round that is going on is 46\n",
      "Current round that is going on is 47\n",
      "Current round that is going on is 48\n",
      "Current round that is going on is 49\n",
      "Current round that is going on is 50\n",
      "Current round that is going on is 51\n",
      "Current round that is going on is 52\n",
      "War!\n",
      "Current round that is going on is 53\n",
      "Current round that is going on is 54\n",
      "Current round that is going on is 55\n",
      "Current round that is going on is 56\n",
      "Current round that is going on is 57\n",
      "Current round that is going on is 58\n",
      "Current round that is going on is 59\n",
      "Current round that is going on is 60\n",
      "Current round that is going on is 61\n",
      "Current round that is going on is 62\n",
      "Current round that is going on is 63\n",
      "Current round that is going on is 64\n",
      "Current round that is going on is 65\n",
      "Current round that is going on is 66\n",
      "Current round that is going on is 67\n",
      "Current round that is going on is 68\n",
      "Current round that is going on is 69\n",
      "Current round that is going on is 70\n",
      "Current round that is going on is 71\n",
      "Current round that is going on is 72\n",
      "Current round that is going on is 73\n",
      "Current round that is going on is 74\n",
      "Current round that is going on is 75\n",
      "Current round that is going on is 76\n",
      "Current round that is going on is 77\n",
      "Current round that is going on is 78\n",
      "Current round that is going on is 79\n",
      "Current round that is going on is 80\n",
      "Current round that is going on is 81\n",
      "War!\n",
      "Current round that is going on is 82\n",
      "Current round that is going on is 83\n",
      "Current round that is going on is 84\n",
      "Current round that is going on is 85\n",
      "Current round that is going on is 86\n",
      "Current round that is going on is 87\n",
      "Current round that is going on is 88\n",
      "Current round that is going on is 89\n",
      "Current round that is going on is 90\n",
      "Current round that is going on is 91\n",
      "War!\n",
      "Current round that is going on is 92\n",
      "Current round that is going on is 93\n",
      "Current round that is going on is 94\n",
      "Current round that is going on is 95\n",
      "Current round that is going on is 96\n",
      "War!\n",
      "Current round that is going on is 97\n",
      "Current round that is going on is 98\n",
      "Current round that is going on is 99\n",
      "Current round that is going on is 100\n",
      "Current round that is going on is 101\n",
      "Current round that is going on is 102\n",
      "War!\n",
      "Current round that is going on is 103\n",
      "Current round that is going on is 104\n",
      "Current round that is going on is 105\n",
      "Current round that is going on is 106\n",
      "Current round that is going on is 107\n",
      "War!\n",
      "Current round that is going on is 108\n",
      "Current round that is going on is 109\n",
      "Current round that is going on is 110\n",
      "Current round that is going on is 111\n",
      "Current round that is going on is 112\n",
      "Current round that is going on is 113\n",
      "Current round that is going on is 114\n",
      "Current round that is going on is 115\n",
      "Current round that is going on is 116\n",
      "Current round that is going on is 117\n",
      "Current round that is going on is 118\n",
      "Current round that is going on is 119\n",
      "Current round that is going on is 120\n",
      "Current round that is going on is 121\n",
      "Current round that is going on is 122\n",
      "Current round that is going on is 123\n",
      "Current round that is going on is 124\n",
      "Current round that is going on is 125\n",
      "Current round that is going on is 126\n",
      "Current round that is going on is 127\n",
      "Current round that is going on is 128\n",
      "Current round that is going on is 129\n",
      "Current round that is going on is 130\n",
      "Current round that is going on is 131\n",
      "Current round that is going on is 132\n",
      "Current round that is going on is 133\n",
      "Current round that is going on is 134\n",
      "Current round that is going on is 135\n",
      "Current round that is going on is 136\n",
      "Current round that is going on is 137\n",
      "Current round that is going on is 138\n",
      "Current round that is going on is 139\n",
      "Current round that is going on is 140\n",
      "Current round that is going on is 141\n",
      "Current round that is going on is 142\n",
      "Player One has no cards left! Player Two wins\n",
      "The number of rounds that took for this match is 142\n"
     ]
    }
   ],
   "source": [
    "while game_on:\n",
    "    round_number+=1\n",
    "    print (f'Current round that is going on is {round_number}')\n",
    "    if len(player_one.allCards)==0:\n",
    "        print('Player One has no cards left! Player Two wins')\n",
    "        print(f'The number of rounds that took for this match is {round_number}')\n",
    "        game_on=False\n",
    "        break\n",
    "    if len(player_two.allCards)==0:\n",
    "        print('Player Two has no cards left! Player One wins')\n",
    "        print(f'The number of rounds that took for this match is {round_number}')\n",
    "        game_on=False\n",
    "        break\n",
    "    player_one_tableCards=[]\n",
    "    player_one_tableCards.append(player_one.removeOne())\n",
    "    \n",
    "    player_two_tableCards=[]\n",
    "    player_two_tableCards.append(player_two.removeOne())\n",
    "    \n",
    "    at_war=True\n",
    "    \n",
    "    while at_war:\n",
    "        if player_one_tableCards[-1].value>player_two_tableCards[-1].value:\n",
    "            at_war=False\n",
    "            player_one_tableCards.extend(player_two_tableCards)\n",
    "            player_one.add_Cards(player_one_tableCards)\n",
    "        elif player_one_tableCards[-1].value<player_two_tableCards[-1].value:\n",
    "            at_war=False\n",
    "            player_two_tableCards.extend(player_one_tableCards)\n",
    "            player_two.add_Cards(player_two_tableCards)\n",
    "        else:\n",
    "            print ('War!')\n",
    "            if len(player_one.allCards)< 3:\n",
    "                print('Player One can not go to war because insufficient cards')\n",
    "                print('Player Two wins!!')\n",
    "                game_on=False\n",
    "                break\n",
    "            if len(player_two.allCards)< 3:\n",
    "                print('Player Two can not go to war because insufficient cards')\n",
    "                print('Player One wins!!')\n",
    "                game_on=False\n",
    "                break\n",
    "            else:\n",
    "                for i in range(3):\n",
    "                    player_one_tableCards.append(player_one.removeOne())\n",
    "                    player_two_tableCards.append(player_two.removeOne())"
   ]
  },
  {
   "cell_type": "code",
   "execution_count": null,
   "metadata": {},
   "outputs": [],
   "source": []
  },
  {
   "cell_type": "code",
   "execution_count": null,
   "metadata": {},
   "outputs": [],
   "source": []
  }
 ],
 "metadata": {
  "kernelspec": {
   "display_name": "Python 3",
   "language": "python",
   "name": "python3"
  },
  "language_info": {
   "codemirror_mode": {
    "name": "ipython",
    "version": 3
   },
   "file_extension": ".py",
   "mimetype": "text/x-python",
   "name": "python",
   "nbconvert_exporter": "python",
   "pygments_lexer": "ipython3",
   "version": "3.8.5"
  }
 },
 "nbformat": 4,
 "nbformat_minor": 4
}
