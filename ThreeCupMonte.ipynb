{
  "nbformat": 4,
  "nbformat_minor": 0,
  "metadata": {
    "colab": {
      "name": "Untitled1.ipynb",
      "provenance": [],
      "collapsed_sections": [],
      "authorship_tag": "ABX9TyN4Vz+TSgcRwQ31hIP3b+ue",
      "include_colab_link": true
    },
    "kernelspec": {
      "name": "python3",
      "display_name": "Python 3"
    },
    "language_info": {
      "name": "python"
    }
  },
  "cells": [
    {
      "cell_type": "markdown",
      "metadata": {
        "id": "view-in-github",
        "colab_type": "text"
      },
      "source": [
        "<a href=\"https://colab.research.google.com/github/DebjitHore/Python-Codes/blob/master/ThreeCupMonte.ipynb\" target=\"_parent\"><img src=\"https://colab.research.google.com/assets/colab-badge.svg\" alt=\"Open In Colab\"/></a>"
      ]
    },
    {
      "cell_type": "code",
      "metadata": {
        "id": "-JjpqBEIMDrM"
      },
      "source": [
        "def shuffle_list(mylist):\n",
        "  from random import shuffle\n",
        "  shuffle(mylist)\n",
        "  return mylist\n",
        "\n",
        "mylist= ['', 'o', '']"
      ],
      "execution_count": 8,
      "outputs": []
    },
    {
      "cell_type": "code",
      "metadata": {
        "id": "PSa04TScOBl1"
      },
      "source": [
        "def player_guess():\n",
        "  guess=''\n",
        "  while guess not in ['0','1','2']:\n",
        "    guess= input('Pick a number between 0, 1 or 2')\n",
        "  return int(guess)"
      ],
      "execution_count": 9,
      "outputs": []
    },
    {
      "cell_type": "code",
      "metadata": {
        "id": "WmAuT5wXPHpJ"
      },
      "source": [
        "def check_guess(mylist, guess):\n",
        "  if mylist[guess] == 'o':\n",
        "    print('Correct guess')\n",
        "  else:\n",
        "    print('Wrong guess, sorry!')\n",
        "    print(mylist)"
      ],
      "execution_count": 14,
      "outputs": []
    },
    {
      "cell_type": "code",
      "metadata": {
        "colab": {
          "base_uri": "https://localhost:8080/"
        },
        "id": "_j68tPdcPwn0",
        "outputId": "1cdcb625-febb-45a6-83c0-e3bc90b72efc"
      },
      "source": [
        "#INITIAL LIST\n",
        "mylist= ['', 'o', '']\n",
        "\n",
        "#SHUFFLED LIST\n",
        "mylist_mixed= shuffle_list(mylist)\n",
        "#USER GUESS\n",
        "guess= player_guess()\n",
        "#FINAL CHECK\n",
        "check_guess(mylist_mixed, guess)"
      ],
      "execution_count": 19,
      "outputs": [
        {
          "output_type": "stream",
          "text": [
            "Pick a number between 0, 1 or 20\n",
            "Correct guess\n"
          ],
          "name": "stdout"
        }
      ]
    }
  ]
}