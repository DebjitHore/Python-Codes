{
  "nbformat": 4,
  "nbformat_minor": 0,
  "metadata": {
    "colab": {
      "name": "PythagoreanTriplet_Euler9.ipynb",
      "provenance": [],
      "authorship_tag": "ABX9TyPh844RMlGctCinf4DNeiKS",
      "include_colab_link": true
    },
    "kernelspec": {
      "name": "python3",
      "display_name": "Python 3"
    },
    "language_info": {
      "name": "python"
    }
  },
  "cells": [
    {
      "cell_type": "markdown",
      "metadata": {
        "id": "view-in-github",
        "colab_type": "text"
      },
      "source": [
        "<a href=\"https://colab.research.google.com/github/DebjitHore/Python-Codes/blob/master/PythagoreanTriplet_Euler9.ipynb\" target=\"_parent\"><img src=\"https://colab.research.google.com/assets/colab-badge.svg\" alt=\"Open In Colab\"/></a>"
      ]
    },
    {
      "cell_type": "code",
      "metadata": {
        "colab": {
          "base_uri": "https://localhost:8080/"
        },
        "id": "Q4Tv9gUHcPVt",
        "outputId": "45442462-0562-47b3-fc1e-232d7e95514a"
      },
      "source": [
        "for a in range(0,500):\n",
        "  for b in range(0,500):\n",
        "    for c in range(0,500):\n",
        "      if a+b+c==1000 and a**2+b**2==c**2:\n",
        "        print(a*b*c)"
      ],
      "execution_count": 3,
      "outputs": [
        {
          "output_type": "stream",
          "text": [
            "31875000\n",
            "31875000\n"
          ],
          "name": "stdout"
        }
      ]
    },
    {
      "cell_type": "code",
      "metadata": {
        "id": "ipR0kQlRc9vr"
      },
      "source": [
        ""
      ],
      "execution_count": null,
      "outputs": []
    }
  ]
}