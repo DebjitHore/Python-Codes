{
  "nbformat": 4,
  "nbformat_minor": 0,
  "metadata": {
    "colab": {
      "name": "Remove_duplicatesfromsortedlist_Leetcode.ipynb",
      "provenance": [],
      "authorship_tag": "ABX9TyN4dtnjmZDsqLDeTVn+BSKf",
      "include_colab_link": true
    },
    "kernelspec": {
      "name": "python3",
      "display_name": "Python 3"
    },
    "language_info": {
      "name": "python"
    }
  },
  "cells": [
    {
      "cell_type": "markdown",
      "metadata": {
        "id": "view-in-github",
        "colab_type": "text"
      },
      "source": [
        "<a href=\"https://colab.research.google.com/github/DebjitHore/Python-Codes/blob/master/Remove_duplicatesfromsortedlist_Leetcode.ipynb\" target=\"_parent\"><img src=\"https://colab.research.google.com/assets/colab-badge.svg\" alt=\"Open In Colab\"/></a>"
      ]
    },
    {
      "cell_type": "code",
      "metadata": {
        "id": "DD1PcC7Fja6S"
      },
      "source": [
        "def remove_duplicates(nums):\n",
        "  mylist=[]\n",
        "  for i in range(0, len(nums)-1):\n",
        "    for j in range(i+1, len(nums)):\n",
        "      if nums[i]== nums[j] and j not in mylist:\n",
        "        mylist.append(j)\n",
        "  #mylist=np.unique(mylist)\n",
        "  print(mylist)\n",
        "  k=0\n",
        "  for i in mylist:\n",
        "    nums.pop(i-k)\n",
        "    k+=1\n",
        "  return (nums)"
      ],
      "execution_count": 28,
      "outputs": []
    },
    {
      "cell_type": "code",
      "metadata": {
        "colab": {
          "base_uri": "https://localhost:8080/"
        },
        "id": "eS6uQbWcjucZ",
        "outputId": "6981fa71-c277-4053-8d48-596822ab422f"
      },
      "source": [
        "nums= [1,1,2]\n",
        "remov_duplicates(nums)"
      ],
      "execution_count": 36,
      "outputs": [
        {
          "output_type": "execute_result",
          "data": {
            "text/plain": [
              "(2, [1, 2])"
            ]
          },
          "metadata": {
            "tags": []
          },
          "execution_count": 36
        }
      ]
    },
    {
      "cell_type": "code",
      "metadata": {
        "id": "xUueA04FlUbH"
      },
      "source": [
        "def remov_duplicates(nums):\n",
        "  nums= list(set(nums))\n",
        "  return (len(nums), nums)"
      ],
      "execution_count": 33,
      "outputs": []
    },
    {
      "cell_type": "code",
      "metadata": {
        "colab": {
          "base_uri": "https://localhost:8080/"
        },
        "id": "GAyQlrIwpNwR",
        "outputId": "68adcd0a-8714-402a-8773-cf52a04ae22c"
      },
      "source": [
        "nums[:] = sorted(list(set(nums)))\n",
        "nums"
      ],
      "execution_count": 38,
      "outputs": [
        {
          "output_type": "execute_result",
          "data": {
            "text/plain": [
              "[1, 2]"
            ]
          },
          "metadata": {
            "tags": []
          },
          "execution_count": 38
        }
      ]
    },
    {
      "cell_type": "code",
      "metadata": {
        "id": "HZDmHjGsprFs"
      },
      "source": [
        ""
      ],
      "execution_count": null,
      "outputs": []
    }
  ]
}