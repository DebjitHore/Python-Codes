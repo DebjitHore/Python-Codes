{
  "nbformat": 4,
  "nbformat_minor": 0,
  "metadata": {
    "colab": {
      "name": "Euler_8.ipynb",
      "provenance": [],
      "authorship_tag": "ABX9TyP98P7syK+9Gs2uS8jI23T6",
      "include_colab_link": true
    },
    "kernelspec": {
      "name": "python3",
      "display_name": "Python 3"
    },
    "language_info": {
      "name": "python"
    }
  },
  "cells": [
    {
      "cell_type": "markdown",
      "metadata": {
        "id": "view-in-github",
        "colab_type": "text"
      },
      "source": [
        "<a href=\"https://colab.research.google.com/github/DebjitHore/Python-Codes/blob/master/Euler_8.ipynb\" target=\"_parent\"><img src=\"https://colab.research.google.com/assets/colab-badge.svg\" alt=\"Open In Colab\"/></a>"
      ]
    },
    {
      "cell_type": "code",
      "metadata": {
        "id": "43NOXDTxp9OR"
      },
      "source": [
        "num=7316717653133062491922511967442657474235534919493496983520312774506326239578318016984801869478851843858615607891129494954595017379583319528532088055111254069874715852386305071569329096329522744304355766896648950445244523161731856403098711121722383113622298934233803081353362766142828064444866452387493035890729629049156044077239071381051585930796086670172427121883998797908792274921901699720888093776657273330010533678812202354218097512545405947522435258490771167055601360483958644670632441572215539753697817977846174064955149290862569321978468622482839722413756570560574902614079729686524145351004748216637048440319989000889524345065854122758866688116427171479924442928230863465674813919123162824586178664583591245665294765456828489128831426076900422421902267105562632111110937054421750694165896040807198403850962455444362981230987879927244284909188845801561660979191338754992005240636899125607176060588611646710940507754100225698315520005593572972571636269561882670428252483600823257530420752963450\n",
        "\n",
        "\n",
        "\n"
      ],
      "execution_count": 2,
      "outputs": []
    },
    {
      "cell_type": "code",
      "metadata": {
        "id": "wTuLVZQ5qgfF"
      },
      "source": [
        "s=str(num)\n",
        "mylist=list(s)\n",
        "l=len(mylist)"
      ],
      "execution_count": 20,
      "outputs": []
    },
    {
      "cell_type": "code",
      "metadata": {
        "id": "24g2VqeisrxB"
      },
      "source": [
        "prodmax=0\n",
        "prodmaxx=0\n",
        "for i in range(0, l-13):\n",
        "  prod1= int(mylist[i])*int(mylist[i+1])*int(mylist[i+2])*int(mylist[i+3])*int(mylist[i+4])*int(mylist[i+5])*int(mylist[i+6])*int(mylist[i+7])*int(mylist[i+8])*int(mylist[i+9])*int(mylist[i+10])*int(mylist[i+11])*int(mylist[i+12])\n",
        "  prod2= int(mylist[i+1])*int(mylist[i+2])*int(mylist[i+3])*int(mylist[i+4])*int(mylist[i+5])*int(mylist[i+6])*int(mylist[i+7])*int(mylist[i+8])*int(mylist[i+9])*int(mylist[i+10])*int(mylist[i+11])*int(mylist[i+12])*int(mylist[i+13])\n",
        "  if prod1>prod2:\n",
        "    prodmax=prod1\n",
        "  else:\n",
        "    prodmax=prod2\n",
        "  if prodmax>prodmaxx:\n",
        "    prodmaxx=prodmax"
      ],
      "execution_count": 34,
      "outputs": []
    },
    {
      "cell_type": "code",
      "metadata": {
        "colab": {
          "base_uri": "https://localhost:8080/"
        },
        "id": "lvacuE50uodl",
        "outputId": "69d29986-176a-4f1c-be6e-01152745891e"
      },
      "source": [
        "prodmaxx"
      ],
      "execution_count": 35,
      "outputs": [
        {
          "output_type": "execute_result",
          "data": {
            "text/plain": [
              "23514624000"
            ]
          },
          "metadata": {
            "tags": []
          },
          "execution_count": 35
        }
      ]
    },
    {
      "cell_type": "code",
      "metadata": {
        "colab": {
          "base_uri": "https://localhost:8080/"
        },
        "id": "VZEdFuilwMVE",
        "outputId": "092e4e9a-9ea0-4121-f485-79fd01ad8dde"
      },
      "source": [
        "prod1"
      ],
      "execution_count": 29,
      "outputs": [
        {
          "output_type": "execute_result",
          "data": {
            "text/plain": [
              "0"
            ]
          },
          "metadata": {
            "tags": []
          },
          "execution_count": 29
        }
      ]
    },
    {
      "cell_type": "code",
      "metadata": {
        "colab": {
          "base_uri": "https://localhost:8080/"
        },
        "id": "2JuT9WHBwRb2",
        "outputId": "a1cb17c0-68ea-48c4-dfea-a14ff1ed5617"
      },
      "source": [
        "prod2"
      ],
      "execution_count": 30,
      "outputs": [
        {
          "output_type": "execute_result",
          "data": {
            "text/plain": [
              "0"
            ]
          },
          "metadata": {
            "tags": []
          },
          "execution_count": 30
        }
      ]
    },
    {
      "cell_type": "code",
      "metadata": {
        "id": "UbUCE8AFwSnw"
      },
      "source": [
        ""
      ],
      "execution_count": null,
      "outputs": []
    }
  ]
}